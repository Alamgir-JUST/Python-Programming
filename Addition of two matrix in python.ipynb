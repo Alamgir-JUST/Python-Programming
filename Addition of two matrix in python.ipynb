{
 "cells": [
  {
   "cell_type": "markdown",
   "id": "ffaef510",
   "metadata": {},
   "source": [
    "# Addition of two matrix in python"
   ]
  },
  {
   "cell_type": "code",
   "execution_count": 1,
   "id": "5c54f18a",
   "metadata": {},
   "outputs": [
    {
     "name": "stdout",
     "output_type": "stream",
     "text": [
      "Enter the number of rows of first matrix: 2\n",
      "Enter the number of cloumns of first matrix: 3\n",
      "Enter the elements of the first matrix: \n",
      "3\n",
      "4\n",
      "5\n",
      "4\n",
      "5\n",
      "6\n",
      "First entered matrix is: \n",
      "3 4 5 \n",
      "4 5 6 \n",
      "Enter the number of rows of second matrix: 2\n",
      "Enter the number of columns of second matrix: 3\n",
      "Enter the elements of the second entered matrix: \n",
      "4\n",
      "5\n",
      "6\n",
      "6\n",
      "7\n",
      "8\n",
      "Second entered matrix is: \n",
      "4 5 6 \n",
      "6 7 8 \n",
      "Addition is possible.\n",
      "Summation of the two given matrix is: \n",
      "7 9 11 \n",
      "10 12 14 \n"
     ]
    }
   ],
   "source": [
    "A = []\n",
    "B = []\n",
    "\n",
    "r1 = int(input('Enter the number of rows of first matrix: '))\n",
    "c1 = int(input('Enter the number of cloumns of first matrix: '))\n",
    "print('Enter the elements of the first matrix: ')\n",
    "for i in range(0, r1):\n",
    "    row = []\n",
    "    for j in range(0, c1):\n",
    "        row.append(int(input()))\n",
    "    A.append(row)\n",
    "\n",
    "print ('First entered matrix is: ')\n",
    "for i in range(0, r1):\n",
    "    for j in range(0, c1):\n",
    "        print(A[i][j], end = \" \")\n",
    "    print()\n",
    "\n",
    "r2 = int(input('Enter the number of rows of second matrix: '))\n",
    "c2 = int(input('Enter the number of columns of second matrix: '))\n",
    "print ('Enter the elements of the second entered matrix: ')\n",
    "for i in range(0, r2):\n",
    "    row = []\n",
    "    for j in range(0, c2):\n",
    "        row.append(int(input()))\n",
    "    B.append(row)\n",
    "    \n",
    "print ('Second entered matrix is: ')\n",
    "for i in range(0, r2):\n",
    "    for j in range(0, c2):\n",
    "        print (B[i][j], end = \" \")\n",
    "    print()\n",
    "\n",
    "if r1 != r2 and c1 != c2:\n",
    "    print('Addition is not possible because the dimensions are not same')\n",
    "else:\n",
    "    print('Addition is possible.')\n",
    "    res = []\n",
    "    for i in range(0, r1):\n",
    "        row = []\n",
    "        for j in range(0, c1):\n",
    "            row.append(A[i][j] + B[i][j])\n",
    "        res.append(row)\n",
    "\n",
    "    print ('Summation of the two given matrix is: ')\n",
    "    for i in range(0, r1):\n",
    "        for j in range(0, c1):\n",
    "            print (res[i][j], end = \" \")\n",
    "        print()\n",
    "    "
   ]
  },
  {
   "cell_type": "markdown",
   "id": "ed73daf8",
   "metadata": {},
   "source": []
  }
 ],
 "metadata": {
  "kernelspec": {
   "display_name": "Python 3 (ipykernel)",
   "language": "python",
   "name": "python3"
  },
  "language_info": {
   "codemirror_mode": {
    "name": "ipython",
    "version": 3
   },
   "file_extension": ".py",
   "mimetype": "text/x-python",
   "name": "python",
   "nbconvert_exporter": "python",
   "pygments_lexer": "ipython3",
   "version": "3.9.7"
  }
 },
 "nbformat": 4,
 "nbformat_minor": 5
}
