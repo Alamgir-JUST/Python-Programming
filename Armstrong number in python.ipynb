{
 "cells": [
  {
   "cell_type": "markdown",
   "id": "0e1bb209",
   "metadata": {},
   "source": [
    "# Check if a number is Armstrong or not in python"
   ]
  },
  {
   "cell_type": "code",
   "execution_count": 1,
   "id": "506452ef",
   "metadata": {},
   "outputs": [
    {
     "name": "stdout",
     "output_type": "stream",
     "text": [
      "152  is not a armstrong number.\n"
     ]
    }
   ],
   "source": [
    "n = 152\n",
    "num = n\n",
    "\n",
    "count = 0\n",
    "while n != 0:\n",
    "    r = n % 10\n",
    "    count = count + 1\n",
    "    n = n // 10\n",
    "    \n",
    "n = num\n",
    "\n",
    "sum = 0\n",
    "while n != 0:\n",
    "    r = n % 10\n",
    "    sum = sum + r**count\n",
    "    n = n // 10\n",
    "\n",
    "if sum == num:\n",
    "    print (num, ' is a armstrong number.')\n",
    "else:\n",
    "    print (num, ' is not a armstrong number.')\n",
    "    "
   ]
  },
  {
   "cell_type": "markdown",
   "id": "fa358707",
   "metadata": {},
   "source": [
    "# Armstrong number from a to b in python"
   ]
  },
  {
   "cell_type": "code",
   "execution_count": 3,
   "id": "9e4cd30f",
   "metadata": {},
   "outputs": [
    {
     "name": "stdout",
     "output_type": "stream",
     "text": [
      "Enter the first value of the range: 1\n",
      "Enter the last value of the range: 1234567\n",
      "Armstrong numbers from  1  to  1234567  are: \n",
      "1 2 3 4 5 6 7 8 9 153 370 371 407 1634 8208 9474 54748 92727 93084 548834 "
     ]
    }
   ],
   "source": [
    "a = int (input(\"Enter the first value of the range: \"))\n",
    "b = int (input(\"Enter the last value of the range: \"))\n",
    "\n",
    "if a > b:\n",
    "    a = a + b\n",
    "    b = a - b\n",
    "    a = a - b\n",
    "\n",
    "print (\"Armstrong numbers from \", a, \" to \", b, \" are: \")\n",
    "for n in range(a, b + 1):\n",
    "    num = n\n",
    "    digits = 0\n",
    "    while num != 0:\n",
    "        digits = digits + 1\n",
    "        num = num // 10\n",
    "        \n",
    "    num = n\n",
    "    sum = 0\n",
    "    while num != 0:\n",
    "        r = num % 10\n",
    "        sum = sum + r ** digits\n",
    "        num = num // 10\n",
    "        \n",
    "    if sum == n:\n",
    "        print (n, end = \" \")\n"
   ]
  },
  {
   "cell_type": "code",
   "execution_count": null,
   "id": "82fb64b7",
   "metadata": {},
   "outputs": [],
   "source": []
  }
 ],
 "metadata": {
  "kernelspec": {
   "display_name": "Python 3 (ipykernel)",
   "language": "python",
   "name": "python3"
  },
  "language_info": {
   "codemirror_mode": {
    "name": "ipython",
    "version": 3
   },
   "file_extension": ".py",
   "mimetype": "text/x-python",
   "name": "python",
   "nbconvert_exporter": "python",
   "pygments_lexer": "ipython3",
   "version": "3.9.7"
  }
 },
 "nbformat": 4,
 "nbformat_minor": 5
}
