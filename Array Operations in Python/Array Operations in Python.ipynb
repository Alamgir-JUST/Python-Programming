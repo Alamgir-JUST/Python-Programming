{
 "cells": [
  {
   "cell_type": "markdown",
   "id": "8db3a555",
   "metadata": {},
   "source": [
    "# Array Operations in Python"
   ]
  },
  {
   "cell_type": "code",
   "execution_count": 58,
   "id": "965d06f9",
   "metadata": {},
   "outputs": [
    {
     "name": "stdout",
     "output_type": "stream",
     "text": [
      "First element of the array is:  5\n",
      "Size of the array is:  10\n",
      "5, 10, 20, 15, 12, 21, 10, 20, 10, 30, Array after deleting elements:  array('i', [5, 20, 15, 12, 10, 20, 10, 30])\n",
      "10 is present in the array for  2  times\n",
      "New array is:  array('i', [5, 20, 15, 12, 10, 20, 10, 30, 200, 100, 300])\n",
      "Index of 20 is:  1\n",
      "array('i', [5, 20, 15, 12, 10, 1000, 20, 10, 30, 200, 100, 300])\n",
      "array('i', [300, 100, 200, 30, 10, 20, 1000, 10, 12, 15, 20, 5])\n",
      "[300, 100, 200, 30, 10, 20, 1000, 10, 12, 15, 20, 5]\n",
      "List after ascending order sorting:  [5, 10, 10, 12, 15, 20, 20, 30, 100, 200, 300, 1000]\n",
      "List after descending order sorting:  [1000, 300, 200, 100, 30, 20, 20, 15, 12, 10, 10, 5]\n"
     ]
    }
   ],
   "source": [
    "import array as arr\n",
    "\n",
    "#Function for array to list conversion\n",
    "def array_list(x):\n",
    "    my_list = x.tolist()\n",
    "    return my_list\n",
    "    \n",
    "\n",
    "\n",
    "a = arr.array('i', [5, 10, 20, 15, 12, 21, 10, 20, 10])\n",
    "a.append(30) #Adding element to the last position of the array\n",
    "\n",
    "print ('First element of the array is: ', a[0])\n",
    "\n",
    "print ('Size of the array is: ', len(a))\n",
    "\n",
    "for i in range(0, len(a)): #Accessing array elements using for loop\n",
    "    print (a[i], end = ', ')\n",
    "    \n",
    "a.pop(1) #Delete element from 2nd positon\n",
    "a.remove(21) #Delete by value\n",
    "print ('Array after deleting elements: ', a)\n",
    "print ('10 is present in the array for ', a.count(10), ' times')\n",
    "\n",
    "b = arr.array('i', [200, 100, 300])\n",
    "\n",
    "#adding b array with a array\n",
    "a.extend(b)\n",
    "\n",
    "print ('New array is: ', a)\n",
    "\n",
    "#Finding index of an element\n",
    "print ('Index of 20 is: ', a.index(20))\n",
    "\n",
    "#Insert value in specific position\n",
    "a.insert(5, 1000)\n",
    "print (a)\n",
    "\n",
    "#Reverse the array\n",
    "a.reverse()\n",
    "print (a)\n",
    "\n",
    "li = array_list(a) #Converting the array to list\n",
    "print (li) #Print the list\n",
    "type(li) #Checking the type of the list\n",
    "li.sort() #Ascending order sorting \n",
    "print('List after ascending order sorting: ', li)\n",
    "li.sort(reverse = True) #Descending order sorting\n",
    "print('List after descending order sorting: ', li)"
   ]
  }
 ],
 "metadata": {
  "kernelspec": {
   "display_name": "Python 3 (ipykernel)",
   "language": "python",
   "name": "python3"
  },
  "language_info": {
   "codemirror_mode": {
    "name": "ipython",
    "version": 3
   },
   "file_extension": ".py",
   "mimetype": "text/x-python",
   "name": "python",
   "nbconvert_exporter": "python",
   "pygments_lexer": "ipython3",
   "version": "3.9.7"
  }
 },
 "nbformat": 4,
 "nbformat_minor": 5
}
