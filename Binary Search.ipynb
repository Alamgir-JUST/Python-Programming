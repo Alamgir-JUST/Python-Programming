{
 "cells": [
  {
   "cell_type": "markdown",
   "id": "e17dfeca",
   "metadata": {},
   "source": [
    "# Binary search algorithm in python"
   ]
  },
  {
   "cell_type": "code",
   "execution_count": 2,
   "id": "03bd1330",
   "metadata": {},
   "outputs": [
    {
     "name": "stdout",
     "output_type": "stream",
     "text": [
      "Enter the size of the array: 5\n",
      "Enter the elements of the array: \n",
      "5\n",
      "10\n",
      "15\n",
      "20\n",
      "25\n",
      "Enter the search value: 25\n",
      "25  found at position 5\n"
     ]
    }
   ],
   "source": [
    "import array as arr\n",
    "\n",
    "def BinarySearch(A, s, key):\n",
    "    left = 0\n",
    "    right = s - 1\n",
    "    while left <= right:\n",
    "        mid = int (left + (right - left)/2) #Ingoring integer overflow\n",
    "        \n",
    "        if A[mid] == key:\n",
    "            return mid + 1\n",
    "        elif A[mid] > key:\n",
    "            right = mid - 1\n",
    "        else:\n",
    "            left = mid + 1\n",
    "            \n",
    "    return -1\n",
    "\n",
    "s = int (input('Enter the size of the array: '))\n",
    "A = arr.array('i', [])\n",
    "print ('Enter the elements of the array: ')\n",
    "for i in range(0, s):\n",
    "    element = int (input())\n",
    "    A.append(element)\n",
    "\n",
    "key = int(input('Enter the search value: '))\n",
    "\n",
    "res = BinarySearch(A, s, key)\n",
    "if res == -1:\n",
    "    print (key, ' not found in the array.')\n",
    "else:\n",
    "    print (key, ' found at position', res)\n",
    "\n"
   ]
  },
  {
   "cell_type": "markdown",
   "id": "3a38848c",
   "metadata": {},
   "source": [
    "# ===Time Compexity===\n",
    "Best Case: O(1)\n",
    "Worst Case/Average Case: O(log n)"
   ]
  },
  {
   "cell_type": "code",
   "execution_count": null,
   "id": "159c6c2d",
   "metadata": {},
   "outputs": [],
   "source": []
  }
 ],
 "metadata": {
  "kernelspec": {
   "display_name": "Python 3 (ipykernel)",
   "language": "python",
   "name": "python3"
  },
  "language_info": {
   "codemirror_mode": {
    "name": "ipython",
    "version": 3
   },
   "file_extension": ".py",
   "mimetype": "text/x-python",
   "name": "python",
   "nbconvert_exporter": "python",
   "pygments_lexer": "ipython3",
   "version": "3.9.7"
  }
 },
 "nbformat": 4,
 "nbformat_minor": 5
}
