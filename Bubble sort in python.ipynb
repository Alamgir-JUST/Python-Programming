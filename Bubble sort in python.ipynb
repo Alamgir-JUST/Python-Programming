{
 "cells": [
  {
   "cell_type": "markdown",
   "id": "d87958ad",
   "metadata": {},
   "source": [
    "# Bubble sort in python"
   ]
  },
  {
   "cell_type": "code",
   "execution_count": 1,
   "id": "6e4f9653",
   "metadata": {},
   "outputs": [
    {
     "name": "stdout",
     "output_type": "stream",
     "text": [
      "Enter the size of the array: 5\n",
      "Enter the lements of the array: \n",
      "10\n",
      "1\n",
      "2\n",
      "20\n",
      "5\n",
      "Sorted array is: \n",
      "1,2,5,10,20,"
     ]
    }
   ],
   "source": [
    "import array as arr\n",
    "\n",
    "def BubbleSort(A, n):\n",
    "    for i in range(0, n):\n",
    "        check = 0\n",
    "        for j in range(0, n - i - 1):\n",
    "            if A[j] > A[j + 1]:\n",
    "                temp = A[j]\n",
    "                A[j] = A[j + 1]\n",
    "                A[j + 1] = temp\n",
    "                check = 1\n",
    "        if check == 0:\n",
    "            break\n",
    "            \n",
    "    print ('Sorted array is: ')\n",
    "    for i in range (0, n):\n",
    "        print (A[i], end = ',')\n",
    "        \n",
    "s = int (input ('Enter the size of the array: '))\n",
    "print('Enter the lements of the array: ')\n",
    "A = arr.array('i', [])\n",
    "for i in range(0, s):\n",
    "    element = int (input())\n",
    "    A.append(element)\n",
    "\n",
    "BubbleSort(A, s)\n"
   ]
  },
  {
   "cell_type": "markdown",
   "id": "30a36631",
   "metadata": {},
   "source": [
    "# Time Complexity\n",
    "Best case: O (n)\n",
    "Worst case: O (n * n)"
   ]
  },
  {
   "cell_type": "code",
   "execution_count": null,
   "id": "a176fef3",
   "metadata": {},
   "outputs": [],
   "source": []
  }
 ],
 "metadata": {
  "kernelspec": {
   "display_name": "Python 3 (ipykernel)",
   "language": "python",
   "name": "python3"
  },
  "language_info": {
   "codemirror_mode": {
    "name": "ipython",
    "version": 3
   },
   "file_extension": ".py",
   "mimetype": "text/x-python",
   "name": "python",
   "nbconvert_exporter": "python",
   "pygments_lexer": "ipython3",
   "version": "3.9.7"
  }
 },
 "nbformat": 4,
 "nbformat_minor": 5
}
