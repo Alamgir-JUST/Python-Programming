{
 "cells": [
  {
   "cell_type": "markdown",
   "id": "3bc7742e",
   "metadata": {},
   "source": [
    "# Check a Year is Leap Year or Not in Python"
   ]
  },
  {
   "cell_type": "code",
   "execution_count": 1,
   "id": "8d799752",
   "metadata": {},
   "outputs": [
    {
     "name": "stdout",
     "output_type": "stream",
     "text": [
      "Enter a year:2012\n",
      "2012  is a Leap Year.\n"
     ]
    }
   ],
   "source": [
    "year = int (input('Enter a year:'))\n",
    "\n",
    "if year < 0:\n",
    "    print ('Enter a Valid Year.')\n",
    "elif year % 400 == 0:\n",
    "    print (year, ' is a Leap Year.')\n",
    "elif year % 4 == 0 and year % 100 != 0:\n",
    "    print (year, ' is a Leap Year.')\n",
    "else:\n",
    "    print (year, 'Not a Leap Year.')"
   ]
  },
  {
   "cell_type": "code",
   "execution_count": null,
   "id": "4b7d08e6",
   "metadata": {},
   "outputs": [],
   "source": []
  }
 ],
 "metadata": {
  "kernelspec": {
   "display_name": "Python 3 (ipykernel)",
   "language": "python",
   "name": "python3"
  },
  "language_info": {
   "codemirror_mode": {
    "name": "ipython",
    "version": 3
   },
   "file_extension": ".py",
   "mimetype": "text/x-python",
   "name": "python",
   "nbconvert_exporter": "python",
   "pygments_lexer": "ipython3",
   "version": "3.9.7"
  }
 },
 "nbformat": 4,
 "nbformat_minor": 5
}
