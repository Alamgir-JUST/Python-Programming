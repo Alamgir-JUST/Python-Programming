{
 "cells": [
  {
   "cell_type": "markdown",
   "id": "393a5a2d",
   "metadata": {},
   "source": [
    "# Python program to find the factorial of a number using for Loop"
   ]
  },
  {
   "cell_type": "code",
   "execution_count": 1,
   "id": "e7d62605",
   "metadata": {},
   "outputs": [
    {
     "name": "stdout",
     "output_type": "stream",
     "text": [
      "Enter a number: 7\n",
      "Factorial of:  7 is:  5040\n"
     ]
    }
   ],
   "source": [
    "number = int(input('Enter a number: '))\n",
    "factorial = 1\n",
    "if number < 0:\n",
    "    print('Not Possible! Please Enter a Positive Number')\n",
    "elif number == 0:\n",
    "    print('Factorial of 0 is 1.')\n",
    "else:\n",
    "    for i in range(1, number + 1):\n",
    "        factorial =  factorial * i\n",
    "print ('Factorial of: ', number, 'is: ', factorial)"
   ]
  },
  {
   "cell_type": "markdown",
   "id": "c8ff1e71",
   "metadata": {},
   "source": [
    "# Factorial of a Number using Recursion"
   ]
  },
  {
   "cell_type": "code",
   "execution_count": 2,
   "id": "fb2e74df",
   "metadata": {},
   "outputs": [
    {
     "name": "stdout",
     "output_type": "stream",
     "text": [
      "Enter a positive number: 6\n",
      "Factorial of:  6  is:  720\n"
     ]
    }
   ],
   "source": [
    "def factorial(num): #Defining the function\n",
    "    if num < 0:\n",
    "        return 'Not Possible'\n",
    "    elif num == 0:\n",
    "        return 1\n",
    "    elif num == 1:\n",
    "        return 1\n",
    "    else:\n",
    "        return num * factorial(num - 1)\n",
    "\n",
    "n = int(input('Enter a positive number: '))\n",
    "res = factorial(n)\n",
    "print('Factorial of: ', n, ' is: ', res)"
   ]
  },
  {
   "cell_type": "code",
   "execution_count": null,
   "id": "69af8687",
   "metadata": {},
   "outputs": [],
   "source": []
  }
 ],
 "metadata": {
  "kernelspec": {
   "display_name": "Python 3 (ipykernel)",
   "language": "python",
   "name": "python3"
  },
  "language_info": {
   "codemirror_mode": {
    "name": "ipython",
    "version": 3
   },
   "file_extension": ".py",
   "mimetype": "text/x-python",
   "name": "python",
   "nbconvert_exporter": "python",
   "pygments_lexer": "ipython3",
   "version": "3.9.7"
  }
 },
 "nbformat": 4,
 "nbformat_minor": 5
}
