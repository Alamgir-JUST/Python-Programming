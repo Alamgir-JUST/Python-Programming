{
 "cells": [
  {
   "cell_type": "markdown",
   "id": "3b4c30ff",
   "metadata": {},
   "source": [
    "# Finding factors of a number in python"
   ]
  },
  {
   "cell_type": "code",
   "execution_count": 2,
   "id": "8c17c0c6",
   "metadata": {},
   "outputs": [
    {
     "name": "stdout",
     "output_type": "stream",
     "text": [
      "Enter a number: 10\n",
      "Factors of  10  are: \n",
      "1, 2, 5, 10, "
     ]
    }
   ],
   "source": [
    "number = int (input ('Enter a number: '))\n",
    "\n",
    "print ('Factors of ', number, ' are: ')\n",
    "\n",
    "for i in range(1, number + 1):\n",
    "    if number % i == 0:\n",
    "        print (i, end = ', ')"
   ]
  }
 ],
 "metadata": {
  "kernelspec": {
   "display_name": "Python 3 (ipykernel)",
   "language": "python",
   "name": "python3"
  },
  "language_info": {
   "codemirror_mode": {
    "name": "ipython",
    "version": 3
   },
   "file_extension": ".py",
   "mimetype": "text/x-python",
   "name": "python",
   "nbconvert_exporter": "python",
   "pygments_lexer": "ipython3",
   "version": "3.9.7"
  }
 },
 "nbformat": 4,
 "nbformat_minor": 5
}
