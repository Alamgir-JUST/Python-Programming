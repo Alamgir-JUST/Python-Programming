{
 "cells": [
  {
   "cell_type": "markdown",
   "id": "dd51920a",
   "metadata": {},
   "source": [
    "# Finding factors of a number in python using loop upto sqrt(n)"
   ]
  },
  {
   "cell_type": "code",
   "execution_count": 28,
   "id": "7e196d97",
   "metadata": {},
   "outputs": [
    {
     "name": "stdout",
     "output_type": "stream",
     "text": [
      "Enter a number: 16\n",
      "1 16 2 8 4 "
     ]
    }
   ],
   "source": [
    "import math\n",
    "number = int (input ('Enter a number: '))\n",
    "sqrt_value = int (math.sqrt(number))\n",
    "#print (sqrt_value)\n",
    "for i in range(1, sqrt_value + 1):\n",
    "    if number % i == 0:\n",
    "        if i * i == number:\n",
    "            print (i, end = ' ')\n",
    "        else:\n",
    "            print (i, int(number/i), end = ' ')"
   ]
  },
  {
   "cell_type": "code",
   "execution_count": null,
   "id": "407947b5",
   "metadata": {},
   "outputs": [],
   "source": []
  }
 ],
 "metadata": {
  "kernelspec": {
   "display_name": "Python 3 (ipykernel)",
   "language": "python",
   "name": "python3"
  },
  "language_info": {
   "codemirror_mode": {
    "name": "ipython",
    "version": 3
   },
   "file_extension": ".py",
   "mimetype": "text/x-python",
   "name": "python",
   "nbconvert_exporter": "python",
   "pygments_lexer": "ipython3",
   "version": "3.9.7"
  }
 },
 "nbformat": 4,
 "nbformat_minor": 5
}
