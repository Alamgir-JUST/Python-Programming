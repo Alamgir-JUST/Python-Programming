{
 "cells": [
  {
   "cell_type": "markdown",
   "id": "286894d7",
   "metadata": {},
   "source": [
    "# Triangle Pattern in Python"
   ]
  },
  {
   "cell_type": "code",
   "execution_count": 1,
   "id": "26fcf268",
   "metadata": {},
   "outputs": [
    {
     "name": "stdout",
     "output_type": "stream",
     "text": [
      "1 \n",
      "1 2 \n",
      "1 2 3 \n",
      "1 2 3 4 \n",
      "1 2 3 4 5 \n"
     ]
    }
   ],
   "source": [
    "row = 5\n",
    "\n",
    "for i in range (1, row + 1):\n",
    "    for j in range(1, i + 1):\n",
    "        print (j, end = \" \")\n",
    "    print ()"
   ]
  },
  {
   "cell_type": "markdown",
   "id": "6cb118f1",
   "metadata": {},
   "source": [
    "# Floyd's triangle in Python"
   ]
  },
  {
   "cell_type": "code",
   "execution_count": 4,
   "id": "7d8ed30e",
   "metadata": {},
   "outputs": [
    {
     "name": "stdout",
     "output_type": "stream",
     "text": [
      "1 \n",
      "2 3 \n",
      "4 5 6 \n",
      "7 8 9 10 \n",
      "11 12 13 14 15 \n",
      "16 17 18 19 20 21 \n",
      "22 23 24 25 26 27 28 \n",
      "29 30 31 32 33 34 35 36 \n",
      "37 38 39 40 41 42 43 44 45 \n",
      "46 47 48 49 50 51 52 53 54 55 \n"
     ]
    }
   ],
   "source": [
    "row = 10\n",
    "k = 1\n",
    "for i in range (1, row + 1):\n",
    "    for j in range(1, i + 1):\n",
    "        print (k, end = \" \")\n",
    "        k = k + 1\n",
    "    print ()"
   ]
  },
  {
   "cell_type": "code",
   "execution_count": null,
   "id": "b86c1a51",
   "metadata": {},
   "outputs": [],
   "source": []
  }
 ],
 "metadata": {
  "kernelspec": {
   "display_name": "Python 3 (ipykernel)",
   "language": "python",
   "name": "python3"
  },
  "language_info": {
   "codemirror_mode": {
    "name": "ipython",
    "version": 3
   },
   "file_extension": ".py",
   "mimetype": "text/x-python",
   "name": "python",
   "nbconvert_exporter": "python",
   "pygments_lexer": "ipython3",
   "version": "3.9.7"
  }
 },
 "nbformat": 4,
 "nbformat_minor": 5
}
