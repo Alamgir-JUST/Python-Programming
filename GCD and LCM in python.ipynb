{
 "cells": [
  {
   "cell_type": "markdown",
   "id": "e954707c",
   "metadata": {},
   "source": [
    "# GCD and LCM in Python"
   ]
  },
  {
   "cell_type": "code",
   "execution_count": 10,
   "id": "6e8b0a4b",
   "metadata": {},
   "outputs": [
    {
     "name": "stdout",
     "output_type": "stream",
     "text": [
      "GCD of the wo given numbers is:  12\n"
     ]
    }
   ],
   "source": [
    "def GCD(x, y):\n",
    "    if x > y:\n",
    "        x = x + y\n",
    "        y = x - y\n",
    "        x = x - y\n",
    "    res = 1\n",
    "    for i in range(x, 0, -1):\n",
    "        if y % i == 0 and x % i == 0:\n",
    "            res = i\n",
    "            break\n",
    "    return res\n",
    "\n",
    "x = 60\n",
    "y = 48\n",
    "res = GCD(x, y)\n",
    "print (\"GCD of the wo given numbers is: \", res)\n",
    "\n",
    "LCD = (x * y) // res\n",
    "print (\"CD of the wo given numbers is: \", res)"
   ]
  },
  {
   "cell_type": "code",
   "execution_count": null,
   "id": "35b3e320",
   "metadata": {},
   "outputs": [],
   "source": []
  }
 ],
 "metadata": {
  "kernelspec": {
   "display_name": "Python 3 (ipykernel)",
   "language": "python",
   "name": "python3"
  },
  "language_info": {
   "codemirror_mode": {
    "name": "ipython",
    "version": 3
   },
   "file_extension": ".py",
   "mimetype": "text/x-python",
   "name": "python",
   "nbconvert_exporter": "python",
   "pygments_lexer": "ipython3",
   "version": "3.9.7"
  }
 },
 "nbformat": 4,
 "nbformat_minor": 5
}
