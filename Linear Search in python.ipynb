{
 "cells": [
  {
   "cell_type": "markdown",
   "id": "39365773",
   "metadata": {},
   "source": [
    "# Linear search algorithm in python"
   ]
  },
  {
   "cell_type": "code",
   "execution_count": null,
   "id": "cecd9f64",
   "metadata": {},
   "outputs": [],
   "source": [
    "import array as arr\n",
    "\n",
    "def LinearSearch(A, s, key): #Function for linear search\n",
    "    for i in range(0, s):\n",
    "        if A[i] == key:\n",
    "            return i + 1\n",
    "    return -1\n",
    "\n",
    "\n",
    "s = int (input('Enter the size of the array: '))\n",
    "print ('Enter the array elements: ')\n",
    "A = arr.array('i', [])\n",
    "for i in range(0, s):\n",
    "    element = int (input())\n",
    "    A.append(element)\n",
    "    \n",
    "key = int(input('Enter the search value: '))\n",
    "res = LinearSearch(A, s, key)\n",
    "\n",
    "if res == -1:\n",
    "    print (key, ' not found in the array.')\n",
    "else:\n",
    "    print (key, ' found at position ', res)"
   ]
  },
  {
   "cell_type": "code",
   "execution_count": null,
   "id": "c72612ea",
   "metadata": {},
   "outputs": [],
   "source": []
  }
 ],
 "metadata": {
  "kernelspec": {
   "display_name": "Python 3 (ipykernel)",
   "language": "python",
   "name": "python3"
  },
  "language_info": {
   "codemirror_mode": {
    "name": "ipython",
    "version": 3
   },
   "file_extension": ".py",
   "mimetype": "text/x-python",
   "name": "python",
   "nbconvert_exporter": "python",
   "pygments_lexer": "ipython3",
   "version": "3.9.7"
  }
 },
 "nbformat": 4,
 "nbformat_minor": 5
}
