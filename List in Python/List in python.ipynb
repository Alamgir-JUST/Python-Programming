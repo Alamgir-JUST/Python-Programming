{
 "cells": [
  {
   "cell_type": "markdown",
   "id": "d7494df7",
   "metadata": {},
   "source": [
    "# List in Python"
   ]
  },
  {
   "cell_type": "code",
   "execution_count": 1,
   "id": "4a928d9d",
   "metadata": {},
   "outputs": [],
   "source": [
    "number = [10, 20, 30, 40, 50, 30] #Declare and assign values in List"
   ]
  },
  {
   "cell_type": "code",
   "execution_count": 2,
   "id": "336d9e22",
   "metadata": {},
   "outputs": [
    {
     "data": {
      "text/plain": [
       "[10, 20, 30, 40, 50, 30]"
      ]
     },
     "execution_count": 2,
     "metadata": {},
     "output_type": "execute_result"
    }
   ],
   "source": [
    "number"
   ]
  },
  {
   "cell_type": "code",
   "execution_count": 3,
   "id": "038dca55",
   "metadata": {},
   "outputs": [],
   "source": [
    "number.append(60) #Adding element in the last position of the List"
   ]
  },
  {
   "cell_type": "code",
   "execution_count": 4,
   "id": "dd974689",
   "metadata": {},
   "outputs": [
    {
     "data": {
      "text/plain": [
       "[10, 20, 30, 40, 50, 30, 60]"
      ]
     },
     "execution_count": 4,
     "metadata": {},
     "output_type": "execute_result"
    }
   ],
   "source": [
    "number"
   ]
  },
  {
   "cell_type": "code",
   "execution_count": 5,
   "id": "8fba6062",
   "metadata": {},
   "outputs": [
    {
     "data": {
      "text/plain": [
       "2"
      ]
     },
     "execution_count": 5,
     "metadata": {},
     "output_type": "execute_result"
    }
   ],
   "source": [
    "number.count(30) #Counting specific value in the list"
   ]
  },
  {
   "cell_type": "code",
   "execution_count": 6,
   "id": "ee6c5098",
   "metadata": {},
   "outputs": [],
   "source": [
    "number2 = [100, 200, 300] #Another list"
   ]
  },
  {
   "cell_type": "code",
   "execution_count": 7,
   "id": "242f697e",
   "metadata": {},
   "outputs": [],
   "source": [
    "number.extend(number2) #Adding second list to the first list"
   ]
  },
  {
   "cell_type": "code",
   "execution_count": 8,
   "id": "01e8f333",
   "metadata": {},
   "outputs": [
    {
     "data": {
      "text/plain": [
       "[10, 20, 30, 40, 50, 30, 60, 100, 200, 300]"
      ]
     },
     "execution_count": 8,
     "metadata": {},
     "output_type": "execute_result"
    }
   ],
   "source": [
    "number"
   ]
  },
  {
   "cell_type": "code",
   "execution_count": 9,
   "id": "a72ada15",
   "metadata": {},
   "outputs": [
    {
     "data": {
      "text/plain": [
       "8"
      ]
     },
     "execution_count": 9,
     "metadata": {},
     "output_type": "execute_result"
    }
   ],
   "source": [
    "number.index(200) #Finding index of any value"
   ]
  },
  {
   "cell_type": "code",
   "execution_count": 10,
   "id": "c6bffab8",
   "metadata": {},
   "outputs": [],
   "source": [
    "number.insert(2, 20000) #Inserting value in specific position"
   ]
  },
  {
   "cell_type": "code",
   "execution_count": 11,
   "id": "bf72b8e3",
   "metadata": {},
   "outputs": [
    {
     "data": {
      "text/plain": [
       "[10, 20, 20000, 30, 40, 50, 30, 60, 100, 200, 300]"
      ]
     },
     "execution_count": 11,
     "metadata": {},
     "output_type": "execute_result"
    }
   ],
   "source": [
    "number"
   ]
  },
  {
   "cell_type": "code",
   "execution_count": 12,
   "id": "87bbdc11",
   "metadata": {},
   "outputs": [
    {
     "data": {
      "text/plain": [
       "50"
      ]
     },
     "execution_count": 12,
     "metadata": {},
     "output_type": "execute_result"
    }
   ],
   "source": [
    "number.pop(5) #Delete the value from 5th index"
   ]
  },
  {
   "cell_type": "code",
   "execution_count": 13,
   "id": "418fc18c",
   "metadata": {},
   "outputs": [
    {
     "data": {
      "text/plain": [
       "[10, 20, 20000, 30, 40, 30, 60, 100, 200, 300]"
      ]
     },
     "execution_count": 13,
     "metadata": {},
     "output_type": "execute_result"
    }
   ],
   "source": [
    "number"
   ]
  },
  {
   "cell_type": "code",
   "execution_count": 14,
   "id": "62ec9df7",
   "metadata": {},
   "outputs": [],
   "source": [
    "number.remove(300) #delete the velue 300"
   ]
  },
  {
   "cell_type": "code",
   "execution_count": 15,
   "id": "e896fbb7",
   "metadata": {},
   "outputs": [
    {
     "data": {
      "text/plain": [
       "[10, 20, 20000, 30, 40, 30, 60, 100, 200]"
      ]
     },
     "execution_count": 15,
     "metadata": {},
     "output_type": "execute_result"
    }
   ],
   "source": [
    "number"
   ]
  },
  {
   "cell_type": "code",
   "execution_count": 16,
   "id": "a712a88f",
   "metadata": {},
   "outputs": [],
   "source": [
    "number.reverse() #Reverse the list"
   ]
  },
  {
   "cell_type": "code",
   "execution_count": 17,
   "id": "671c2bbb",
   "metadata": {},
   "outputs": [
    {
     "data": {
      "text/plain": [
       "[200, 100, 60, 30, 40, 30, 20000, 20, 10]"
      ]
     },
     "execution_count": 17,
     "metadata": {},
     "output_type": "execute_result"
    }
   ],
   "source": [
    "number"
   ]
  },
  {
   "cell_type": "code",
   "execution_count": 18,
   "id": "ad5f606e",
   "metadata": {},
   "outputs": [],
   "source": [
    "number.sort() #Ascending order Sort of a list"
   ]
  },
  {
   "cell_type": "code",
   "execution_count": 19,
   "id": "a79671c1",
   "metadata": {},
   "outputs": [
    {
     "data": {
      "text/plain": [
       "[10, 20, 30, 30, 40, 60, 100, 200, 20000]"
      ]
     },
     "execution_count": 19,
     "metadata": {},
     "output_type": "execute_result"
    }
   ],
   "source": [
    "number"
   ]
  },
  {
   "cell_type": "code",
   "execution_count": 20,
   "id": "17ff0c20",
   "metadata": {},
   "outputs": [
    {
     "data": {
      "text/plain": [
       "10"
      ]
     },
     "execution_count": 20,
     "metadata": {},
     "output_type": "execute_result"
    }
   ],
   "source": [
    "number[0]"
   ]
  },
  {
   "cell_type": "code",
   "execution_count": 21,
   "id": "0de0eeed",
   "metadata": {},
   "outputs": [
    {
     "data": {
      "text/plain": [
       "30"
      ]
     },
     "execution_count": 21,
     "metadata": {},
     "output_type": "execute_result"
    }
   ],
   "source": [
    "number[3]"
   ]
  },
  {
   "cell_type": "code",
   "execution_count": 22,
   "id": "11c13ca1",
   "metadata": {},
   "outputs": [
    {
     "name": "stdout",
     "output_type": "stream",
     "text": [
      "10\n",
      "20\n",
      "30\n",
      "30\n",
      "40\n",
      "60\n",
      "100\n",
      "200\n",
      "20000\n"
     ]
    }
   ],
   "source": [
    "for I in number: #Accessing each value using for loop\n",
    "    print (I)"
   ]
  },
  {
   "cell_type": "code",
   "execution_count": 23,
   "id": "a7c24c55",
   "metadata": {},
   "outputs": [
    {
     "data": {
      "text/plain": [
       "9"
      ]
     },
     "execution_count": 23,
     "metadata": {},
     "output_type": "execute_result"
    }
   ],
   "source": [
    "len(number) #Length of the list"
   ]
  }
 ],
 "metadata": {
  "kernelspec": {
   "display_name": "Python 3 (ipykernel)",
   "language": "python",
   "name": "python3"
  },
  "language_info": {
   "codemirror_mode": {
    "name": "ipython",
    "version": 3
   },
   "file_extension": ".py",
   "mimetype": "text/x-python",
   "name": "python",
   "nbconvert_exporter": "python",
   "pygments_lexer": "ipython3",
   "version": "3.9.7"
  }
 },
 "nbformat": 4,
 "nbformat_minor": 5
}
