{
 "cells": [
  {
   "cell_type": "code",
   "execution_count": 1,
   "id": "a8c26fcb",
   "metadata": {},
   "outputs": [],
   "source": [
    "value = 500 #Global Variable"
   ]
  },
  {
   "cell_type": "code",
   "execution_count": 2,
   "id": "2171036a",
   "metadata": {},
   "outputs": [
    {
     "data": {
      "text/plain": [
       "500"
      ]
     },
     "execution_count": 2,
     "metadata": {},
     "output_type": "execute_result"
    }
   ],
   "source": [
    "value"
   ]
  },
  {
   "cell_type": "code",
   "execution_count": 3,
   "id": "2efc6ab5",
   "metadata": {},
   "outputs": [],
   "source": [
    "def value_print():\n",
    "    number = 100 #Local Variable\n",
    "    print ('Value of Local Variable is: ', number)\n",
    "    print ('Value of Global Variable is: ', value)"
   ]
  },
  {
   "cell_type": "code",
   "execution_count": 4,
   "id": "fe5019b9",
   "metadata": {},
   "outputs": [
    {
     "name": "stdout",
     "output_type": "stream",
     "text": [
      "Value of Local Variable is:  100\n",
      "Value of Global Variable is:  500\n"
     ]
    }
   ],
   "source": [
    "value_print()"
   ]
  },
  {
   "cell_type": "code",
   "execution_count": 5,
   "id": "b154901c",
   "metadata": {},
   "outputs": [],
   "source": [
    "#Define variable as global from a function\n",
    "def my_func():\n",
    "    global num\n",
    "    num = 5000 #num is also a global variable\n",
    "    print ('Value of num is: ', num)"
   ]
  },
  {
   "cell_type": "code",
   "execution_count": 6,
   "id": "2d764ed0",
   "metadata": {},
   "outputs": [
    {
     "name": "stdout",
     "output_type": "stream",
     "text": [
      "Value of num is:  5000\n"
     ]
    }
   ],
   "source": [
    "my_func()"
   ]
  },
  {
   "cell_type": "code",
   "execution_count": 7,
   "id": "595abd38",
   "metadata": {},
   "outputs": [
    {
     "data": {
      "text/plain": [
       "5000"
      ]
     },
     "execution_count": 7,
     "metadata": {},
     "output_type": "execute_result"
    }
   ],
   "source": [
    "num #We can access num variable from here, because num is global"
   ]
  },
  {
   "cell_type": "code",
   "execution_count": null,
   "id": "af25f51b",
   "metadata": {},
   "outputs": [],
   "source": []
  }
 ],
 "metadata": {
  "kernelspec": {
   "display_name": "Python 3 (ipykernel)",
   "language": "python",
   "name": "python3"
  },
  "language_info": {
   "codemirror_mode": {
    "name": "ipython",
    "version": 3
   },
   "file_extension": ".py",
   "mimetype": "text/x-python",
   "name": "python",
   "nbconvert_exporter": "python",
   "pygments_lexer": "ipython3",
   "version": "3.9.7"
  }
 },
 "nbformat": 4,
 "nbformat_minor": 5
}
