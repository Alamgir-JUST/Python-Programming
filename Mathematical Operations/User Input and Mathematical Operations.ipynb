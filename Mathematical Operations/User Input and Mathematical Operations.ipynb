{
 "cells": [
  {
   "cell_type": "markdown",
   "id": "2f7a5f0a",
   "metadata": {},
   "source": [
    "# Mathematical Operations in Python"
   ]
  },
  {
   "cell_type": "code",
   "execution_count": 1,
   "id": "3dfb4949",
   "metadata": {},
   "outputs": [
    {
     "name": "stdout",
     "output_type": "stream",
     "text": [
      "Enter the first number: 1000\n",
      "Enter the second number: 50\n"
     ]
    }
   ],
   "source": [
    "num1 = int (input ('Enter the first number: '))\n",
    "num2 = int (input ('Enter the second number: '))"
   ]
  },
  {
   "cell_type": "code",
   "execution_count": 2,
   "id": "92333e91",
   "metadata": {},
   "outputs": [],
   "source": [
    "res = num1 + num2"
   ]
  },
  {
   "cell_type": "code",
   "execution_count": 3,
   "id": "21eb131f",
   "metadata": {},
   "outputs": [
    {
     "name": "stdout",
     "output_type": "stream",
     "text": [
      "Addition of num1 & num2 is:  1050\n"
     ]
    }
   ],
   "source": [
    "print ('Addition of num1 & num2 is: ', res)"
   ]
  },
  {
   "cell_type": "code",
   "execution_count": 4,
   "id": "1a241378",
   "metadata": {},
   "outputs": [
    {
     "name": "stdout",
     "output_type": "stream",
     "text": [
      "Subtraction of num1 & num2 is:  950\n"
     ]
    }
   ],
   "source": [
    "sub = num1 - num2\n",
    "print ('Subtraction of num1 & num2 is: ', sub)"
   ]
  },
  {
   "cell_type": "code",
   "execution_count": 5,
   "id": "86f2127b",
   "metadata": {},
   "outputs": [
    {
     "name": "stdout",
     "output_type": "stream",
     "text": [
      "Multiplication of num1 & num2 is:  50000\n"
     ]
    }
   ],
   "source": [
    "mul = num1 * num2\n",
    "print ('Multiplication of num1 & num2 is: ', mul)"
   ]
  },
  {
   "cell_type": "code",
   "execution_count": 6,
   "id": "6f0fe161",
   "metadata": {},
   "outputs": [
    {
     "name": "stdout",
     "output_type": "stream",
     "text": [
      "Division of num1 & num2 is:  20.0\n"
     ]
    }
   ],
   "source": [
    "div = num1 / num2\n",
    "print ('Division of num1 & num2 is: ', div)"
   ]
  },
  {
   "cell_type": "code",
   "execution_count": 7,
   "id": "4e0c72d0",
   "metadata": {},
   "outputs": [
    {
     "name": "stdout",
     "output_type": "stream",
     "text": [
      "Remainder of num1 & num2 is:  0\n"
     ]
    }
   ],
   "source": [
    "rem = num1 % num2\n",
    "print ('Remainder of num1 & num2 is: ', rem)"
   ]
  },
  {
   "cell_type": "code",
   "execution_count": null,
   "id": "dbab44d4",
   "metadata": {},
   "outputs": [],
   "source": []
  }
 ],
 "metadata": {
  "kernelspec": {
   "display_name": "Python 3 (ipykernel)",
   "language": "python",
   "name": "python3"
  },
  "language_info": {
   "codemirror_mode": {
    "name": "ipython",
    "version": 3
   },
   "file_extension": ".py",
   "mimetype": "text/x-python",
   "name": "python",
   "nbconvert_exporter": "python",
   "pygments_lexer": "ipython3",
   "version": "3.9.7"
  }
 },
 "nbformat": 4,
 "nbformat_minor": 5
}
