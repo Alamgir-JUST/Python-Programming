{
 "cells": [
  {
   "cell_type": "markdown",
   "id": "347075af",
   "metadata": {},
   "source": [
    "# Multiplication of two matrices in python"
   ]
  },
  {
   "cell_type": "code",
   "execution_count": 1,
   "id": "34249a9f",
   "metadata": {},
   "outputs": [
    {
     "name": "stdout",
     "output_type": "stream",
     "text": [
      "Enter the number of rows of the first matrix: 2\n",
      "Enter the number of columns of the first matrix: 3\n",
      "Enter the number of rows of the second matrix: 3\n",
      "Enter the number of columns of the second matrix: 4\n",
      "Multiplication is possible: \n",
      "Enter the elements of the first matrix: \n",
      "2\n",
      "3\n",
      "4\n",
      "3\n",
      "4\n",
      "5\n",
      "Enter the elements of the second matrix: \n",
      "3\n",
      "4\n",
      "5\n",
      "6\n",
      "2\n",
      "3\n",
      "4\n",
      "5\n",
      "1\n",
      "2\n",
      "3\n",
      "4\n",
      "First matrix is: \n",
      "2 3 4 \n",
      "3 4 5 \n",
      "Second matrix is: \n",
      "3 4 5 6 \n",
      "2 3 4 5 \n",
      "1 2 3 4 \n",
      "Multiplication of the two marix is: \n",
      "16 25 34 \n",
      "22 34 46 \n"
     ]
    }
   ],
   "source": [
    "m = int (input('Enter the number of rows of the first matrix: '))\n",
    "n = int (input('Enter the number of columns of the first matrix: '))\n",
    "p = int (input('Enter the number of rows of the second matrix: '))\n",
    "q = int (input('Enter the number of columns of the second matrix: '))\n",
    "         \n",
    "if n != p:\n",
    "    print ('Multiplication is not possible, because the number columns of the first matrix and the number of rows of the second matrix is not same')\n",
    "else:\n",
    "    print ('Multiplication is possible: ')\n",
    "    A = []\n",
    "    print ('Enter the elements of the first matrix: ')\n",
    "    for i in range(0, m):\n",
    "         r = []\n",
    "         for j in range(0, n):\n",
    "             r.append(int (input()))\n",
    "         A.append(r)\n",
    "         \n",
    "    B = []\n",
    "    print ('Enter the elements of the second matrix: ')\n",
    "    for i in range(0, p):\n",
    "         r = []\n",
    "         for j in range(0, q):\n",
    "             r.append(int (input()))\n",
    "         B.append(r)\n",
    "         \n",
    "    #Assign value of each elements of the result matrix\n",
    "    mul = []\n",
    "    for i in range(0, m):\n",
    "        x = []\n",
    "        for j in range(0, q):\n",
    "            x.append(0)\n",
    "        mul.append(x)\n",
    "\n",
    "    # Applying multiplication formula\n",
    "    for i in range(0, m):\n",
    "        for j in range(0, q):\n",
    "            for k in range(0, n):\n",
    "                mul[i][j] = mul[i][j] + (A[i][k] * B[k][j])\n",
    "\n",
    "    print ('First matrix is: ')\n",
    "    for i in range(0, m):\n",
    "        for j in range(0, n):\n",
    "            print(A[i][j], end = \" \")\n",
    "        print()\n",
    "        \n",
    "    print ('Second matrix is: ')\n",
    "    for i in range(0, p):\n",
    "        for j in range(0, q):\n",
    "            print(B[i][j], end = \" \")\n",
    "        print()\n",
    "        \n",
    "    print ('Multiplication of the two marix is: ')           \n",
    "    for i in range(0, m):\n",
    "        for j in range(0, n):\n",
    "            print(mul[i][j], end = \" \")\n",
    "        print()\n"
   ]
  },
  {
   "cell_type": "markdown",
   "id": "2330019a",
   "metadata": {},
   "source": [
    "### "
   ]
  }
 ],
 "metadata": {
  "kernelspec": {
   "display_name": "Python 3 (ipykernel)",
   "language": "python",
   "name": "python3"
  },
  "language_info": {
   "codemirror_mode": {
    "name": "ipython",
    "version": 3
   },
   "file_extension": ".py",
   "mimetype": "text/x-python",
   "name": "python",
   "nbconvert_exporter": "python",
   "pygments_lexer": "ipython3",
   "version": "3.9.7"
  }
 },
 "nbformat": 4,
 "nbformat_minor": 5
}
