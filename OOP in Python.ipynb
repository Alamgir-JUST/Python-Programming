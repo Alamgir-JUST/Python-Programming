{
 "cells": [
  {
   "cell_type": "markdown",
   "id": "710408c7",
   "metadata": {},
   "source": [
    "# Basic Class and Object in Python"
   ]
  },
  {
   "cell_type": "code",
   "execution_count": 1,
   "id": "cca1ddd7",
   "metadata": {},
   "outputs": [
    {
     "name": "stdout",
     "output_type": "stream",
     "text": [
      "My First Class\n"
     ]
    }
   ],
   "source": [
    "#First Class\n",
    "class first:\n",
    "    def display(self):\n",
    "        print ('My First Class')\n",
    "        \n",
    "obj = first()\n",
    "obj.display()\n"
   ]
  },
  {
   "cell_type": "code",
   "execution_count": 2,
   "id": "2400754c",
   "metadata": {},
   "outputs": [
    {
     "name": "stdout",
     "output_type": "stream",
     "text": [
      "Addition is:  4\n"
     ]
    }
   ],
   "source": [
    "#Addition of two numbers\n",
    "\n",
    "class addition:\n",
    "    \n",
    "    def add(self, a, b):\n",
    "        res = a + b\n",
    "        print (\"Addition is: \", res)\n",
    "        \n",
    "ob = addition()\n",
    "ob.add(1, 3)\n"
   ]
  },
  {
   "cell_type": "code",
   "execution_count": 3,
   "id": "c869b397",
   "metadata": {},
   "outputs": [
    {
     "name": "stdout",
     "output_type": "stream",
     "text": [
      "Name:  xd\n",
      "Result:  3\n"
     ]
    }
   ],
   "source": [
    "#Example of Constructor\n",
    "class student:\n",
    "    name = \"\"\n",
    "    res = \"\"\n",
    "    \n",
    "    def __init__(self, name, res): #Constructor\n",
    "        self.name = name\n",
    "        self.res = res\n",
    "        \n",
    "    def display(self): #Function for prinitng valuess\n",
    "        print (\"Name: \", self.name)\n",
    "        print (\"Result: \", self.res)\n",
    "        \n",
    "o = student(\"xd\", 3)\n",
    "o.display()\n"
   ]
  },
  {
   "cell_type": "code",
   "execution_count": 4,
   "id": "b742f2a5",
   "metadata": {},
   "outputs": [
    {
     "name": "stdout",
     "output_type": "stream",
     "text": [
      "Area of the Triangle is:  85.0\n"
     ]
    }
   ],
   "source": [
    "#Area of triangle \n",
    "\n",
    "class Triangle:\n",
    "    def __init__(self, base, height):\n",
    "        self.base = base\n",
    "        self.height = height\n",
    "        \n",
    "    def calculation(self):\n",
    "        self.res = .5 * self.base * self.height\n",
    "        #print(\"Area of the Triangle is: \", self.res)\n",
    "    \n",
    "    def Print(self):\n",
    "        print(\"Area of the Triangle is: \", self.res)\n",
    "o = Triangle(34, 5)\n",
    "o.calculation()\n",
    "o.Print()\n"
   ]
  },
  {
   "cell_type": "code",
   "execution_count": 5,
   "id": "9478ebbe",
   "metadata": {},
   "outputs": [
    {
     "name": "stdout",
     "output_type": "stream",
     "text": [
      "I am from CSE Class\n",
      "I am from ICT Class\n"
     ]
    }
   ],
   "source": [
    "#Inheritance in python\n",
    "class CSE:        #Super/Parent/Base Class\n",
    "    def display1(self):\n",
    "        print (\"I am from CSE Class\") \n",
    "        \n",
    "class ICT(CSE):  #Sub/Child/Derived Class\n",
    "    def display2(self):\n",
    "        print (\"I am from ICT Class\")\n",
    "        \n",
    "o = ICT()\n",
    "o.display1()\n",
    "o.display2()\n"
   ]
  },
  {
   "cell_type": "code",
   "execution_count": 6,
   "id": "efb08bb4",
   "metadata": {},
   "outputs": [
    {
     "name": "stdout",
     "output_type": "stream",
     "text": [
      "Hi!, I am CSE\n",
      "Hi!, I am ICT\n"
     ]
    }
   ],
   "source": [
    "#Constructor OverRiding\n",
    "\n",
    "class CSE:\n",
    "    def __init__(self):\n",
    "        print (\"Hi!, I am CSE\")\n",
    "        \n",
    "class ICT(CSE):\n",
    "    def __init__(self):\n",
    "        super().__init__() #Overriding the constructor of parent class\n",
    "        print (\"Hi!, I am ICT\")\n",
    "        \n",
    "o = ICT()\n"
   ]
  },
  {
   "cell_type": "code",
   "execution_count": 7,
   "id": "c3bfc3b4",
   "metadata": {},
   "outputs": [
    {
     "name": "stdout",
     "output_type": "stream",
     "text": [
      "Second Constructor:  30\n"
     ]
    }
   ],
   "source": [
    "#Constructor Overloading\n",
    "\n",
    "class CSE:\n",
    "    def __init__(self):\n",
    "        print ('This is default constructor')\n",
    "    def __init__(self, a, b):\n",
    "        print ('Second Constructor: ', (a+b))\n",
    "      \n",
    "\n",
    "O = CSE(10, 20)\n"
   ]
  },
  {
   "cell_type": "markdown",
   "id": "3535841a",
   "metadata": {},
   "source": [
    "# Single Inheritance"
   ]
  },
  {
   "cell_type": "code",
   "execution_count": 8,
   "id": "01a45c31",
   "metadata": {},
   "outputs": [
    {
     "name": "stdout",
     "output_type": "stream",
     "text": [
      "I am from A class.\n",
      "I am from B class.\n"
     ]
    }
   ],
   "source": [
    "class A: #Base Class\n",
    "    def display(self):\n",
    "        print ('I am from A class.')\n",
    "  \n",
    "\n",
    "class B(A): #Sub Class\n",
    "    def display2(self):\n",
    "        super().display()\n",
    "        print ('I am from B class.')\n",
    "\n",
    "o = B()\n",
    "o.display2()\n"
   ]
  },
  {
   "cell_type": "markdown",
   "id": "721ce37f",
   "metadata": {},
   "source": [
    "# Multi Level Inheritance"
   ]
  },
  {
   "cell_type": "code",
   "execution_count": 9,
   "id": "c2ea1802",
   "metadata": {},
   "outputs": [
    {
     "name": "stdout",
     "output_type": "stream",
     "text": [
      "I am from A class.\n",
      "I am from B class.\n",
      "I am from C class.\n"
     ]
    }
   ],
   "source": [
    "class A: #Base Class\n",
    "    def display(self):\n",
    "        print ('I am from A class.')\n",
    "  \n",
    "\n",
    "class B(A): #Sub Class\n",
    "    def display2(self):\n",
    "        print ('I am from B class.')\n",
    "        \n",
    "class C(B):\n",
    "    def display3(self):\n",
    "        super().display()\n",
    "        super().display2()\n",
    "        print ('I am from C class.')\n",
    "\n",
    "o = C()\n",
    "o.display3()\n"
   ]
  },
  {
   "cell_type": "markdown",
   "id": "c8688ad0",
   "metadata": {},
   "source": [
    "# Multiple Inheritance"
   ]
  },
  {
   "cell_type": "code",
   "execution_count": 10,
   "id": "a2623b13",
   "metadata": {},
   "outputs": [
    {
     "name": "stdout",
     "output_type": "stream",
     "text": [
      "I am from A class.\n",
      "I am from C class\n"
     ]
    }
   ],
   "source": [
    "class A: #Base Class - 1\n",
    "    def display(self):\n",
    "        print ('I am from A class.')\n",
    "  \n",
    "class B: #Base Class - 2\n",
    "    def display2(self):\n",
    "        print ('I am from B class.')\n",
    "        \n",
    "class C(A, B): #C is the sub class\n",
    "    def display3(self):\n",
    "        super().display()\n",
    "        print ('I am from C class')\n",
    "\n",
    "o = C()\n",
    "o.display3()\n"
   ]
  },
  {
   "cell_type": "markdown",
   "id": "848107d5",
   "metadata": {},
   "source": [
    "# Hierarchical Inheritance"
   ]
  },
  {
   "cell_type": "code",
   "execution_count": 11,
   "id": "28f2fbd5",
   "metadata": {},
   "outputs": [
    {
     "name": "stdout",
     "output_type": "stream",
     "text": [
      "I am from C class\n"
     ]
    }
   ],
   "source": [
    "class A:\n",
    "    def display(self):\n",
    "        print (\"I am from A class.\")\n",
    "        \n",
    "class B(A):\n",
    "    def display2(self):\n",
    "        print (\"I am from B class.\")\n",
    "    \n",
    "class C(A):\n",
    "    def display3(self):\n",
    "        print (\"I am from C class\")\n",
    "        \n",
    "o = C()\n",
    "o.display3()\n"
   ]
  },
  {
   "cell_type": "markdown",
   "id": "2822b324",
   "metadata": {},
   "source": [
    "# Access Speficier: public"
   ]
  },
  {
   "cell_type": "code",
   "execution_count": 12,
   "id": "ea6d891e",
   "metadata": {},
   "outputs": [
    {
     "name": "stdout",
     "output_type": "stream",
     "text": [
      "Id:  123 , Name:  123 , Result:  3.5\n"
     ]
    }
   ],
   "source": [
    "class student:\n",
    "    #Public data members\n",
    "    id = \"\"\n",
    "    name = \"\"\n",
    "    result = \"\"\n",
    "    \n",
    "    #Constructor\n",
    "    def __init__(self, id, name, result):\n",
    "        self.id = id\n",
    "        self.name = id\n",
    "        self.result = result\n",
    "        \n",
    "    #Public Member Function\n",
    "    def display(self):\n",
    "        print (\"Id: \", self.id, \", Name: \", self.name, \", Result: \", self.result)\n",
    "        \n",
    "s = student(123, \"Alamgir\", 3.50)\n",
    "s.display()\n"
   ]
  },
  {
   "cell_type": "markdown",
   "id": "28991c58",
   "metadata": {},
   "source": [
    "# Access Speficier: protected"
   ]
  },
  {
   "cell_type": "code",
   "execution_count": 13,
   "id": "580af0a5",
   "metadata": {},
   "outputs": [
    {
     "name": "stdout",
     "output_type": "stream",
     "text": [
      "Id:  12345 , Name:  Alamgir , Result:  \n"
     ]
    }
   ],
   "source": [
    "class CSE:\n",
    "    #Protected Data Members\n",
    "    _name = \"\"\n",
    "    _id = \"\"\n",
    "    _result = \"\"\n",
    "    \n",
    "    #Constructor\n",
    "    def __init__(self, _name, id, result):\n",
    "        self._name = _name\n",
    "        self._id = id\n",
    "        self_result = result\n",
    "        \n",
    "    #Protected Member Function\n",
    "    def _display(self):\n",
    "        print (\"Id: \", self._id, \", Name: \", self._name, \", Result: \", self._result)\n",
    "        \n",
    "class ICT(CSE):\n",
    "    def _init__(self, name, id, result):\n",
    "        CSE.__init__(self, name, id, result) #Initialize values to the constructor of CSE class\n",
    "        \n",
    "    #Public Member FUnction\n",
    "    def diplay(self):\n",
    "        self._display()\n",
    "        \n",
    "c = ICT(\"Alamgir\", 12345, 3.50)\n",
    "c.diplay()\n"
   ]
  },
  {
   "cell_type": "markdown",
   "id": "168c4c4f",
   "metadata": {},
   "source": [
    "# Access Speficier: private"
   ]
  },
  {
   "cell_type": "code",
   "execution_count": 14,
   "id": "2373d67f",
   "metadata": {},
   "outputs": [
    {
     "name": "stdout",
     "output_type": "stream",
     "text": [
      "ID:  12345  Result:  3.5\n"
     ]
    }
   ],
   "source": [
    "class CSE:\n",
    "    #Private Data members\n",
    "    __id = \"\"\n",
    "    __result = \"\"\n",
    "    \n",
    "    #Constructor\n",
    "    def __init__(self, id, result):\n",
    "        self.__id = id\n",
    "        self.__result = result\n",
    "    \n",
    "    #Private Member Function\n",
    "    def __display(self):\n",
    "        print (\"ID: \", self.__id, \" Result: \", self.__result)\n",
    "        \n",
    "    #Public Member Function\n",
    "    def display(self):\n",
    "        self.__display()\n",
    "        \n",
    "c = CSE(12345, 3.50)\n",
    "c.display()\n"
   ]
  },
  {
   "cell_type": "markdown",
   "id": "d1dc959e",
   "metadata": {},
   "source": [
    "# Abstraction"
   ]
  },
  {
   "cell_type": "code",
   "execution_count": 15,
   "id": "3414acd0",
   "metadata": {},
   "outputs": [
    {
     "name": "stdout",
     "output_type": "stream",
     "text": [
      "CGPA of the first student:  3.625\n",
      "CGPA of the second student:  3.7800000000000002\n"
     ]
    }
   ],
   "source": [
    "from abc import ABC, abstractmethod \n",
    "\n",
    "class CSE(ABC): #Abstract Base Class (ABC)\n",
    "   #Constructor\n",
    "    def __init__(self, result, result2):\n",
    "        self.result = result\n",
    "        self.result2 = result2\n",
    "    \n",
    "    @abstractmethod\n",
    "    def cgpa(self):\n",
    "        pass\n",
    "    \n",
    "    \n",
    "class student1(CSE):\n",
    "    def cgpa(self):\n",
    "        cgpa = (self.result + self.result2)/2\n",
    "        print (\"CGPA of the first student: \", cgpa)\n",
    "\n",
    "class student2(CSE):\n",
    "    def cgpa(self):\n",
    "        cgpa = (self.result + self.result2)/2.0\n",
    "        print (\"CGPA of the second student: \", cgpa)\n",
    "    \n",
    "#c = CSE(3.50, 4.50) We can't create an object of abstract class\n",
    "\n",
    "s = student1(3.50, 3.75)\n",
    "s.cgpa()\n",
    "\n",
    "s2 = student2(3.67, 3.89)\n",
    "s2.cgpa()\n"
   ]
  },
  {
   "cell_type": "code",
   "execution_count": null,
   "id": "112d1cd7",
   "metadata": {},
   "outputs": [],
   "source": []
  }
 ],
 "metadata": {
  "kernelspec": {
   "display_name": "Python 3 (ipykernel)",
   "language": "python",
   "name": "python3"
  },
  "language_info": {
   "codemirror_mode": {
    "name": "ipython",
    "version": 3
   },
   "file_extension": ".py",
   "mimetype": "text/x-python",
   "name": "python",
   "nbconvert_exporter": "python",
   "pygments_lexer": "ipython3",
   "version": "3.9.7"
  }
 },
 "nbformat": 4,
 "nbformat_minor": 5
}
