{
 "cells": [
  {
   "cell_type": "markdown",
   "id": "12d19377",
   "metadata": {},
   "source": [
    "# Perfect Number in Python"
   ]
  },
  {
   "cell_type": "code",
   "execution_count": 9,
   "id": "e54ccdba",
   "metadata": {},
   "outputs": [
    {
     "name": "stdout",
     "output_type": "stream",
     "text": [
      "Ente the number: 8128\n",
      "8128  is a perfect number.\n"
     ]
    }
   ],
   "source": [
    "import math\n",
    "n = int (input('Ente the number: '))\n",
    "num = n\n",
    "\n",
    "sum = 1\n",
    "for i in range (2, int (math.sqrt(n)) + 1):\n",
    "    if n % i == 0:\n",
    "        r = int (n / i)\n",
    "        if r * r == n:\n",
    "            sum = sum + r;\n",
    "        else:\n",
    "            sum = sum + i + r\n",
    "\n",
    "if sum == num:\n",
    "    print (num, ' is a perfect number.')\n",
    "else:\n",
    "    print (num, ' is not a perfect number. Because the summation of divisor is: ', sum)\n",
    "    "
   ]
  },
  {
   "cell_type": "markdown",
   "id": "f38f574f",
   "metadata": {},
   "source": [
    "# Perfect number from n to m "
   ]
  },
  {
   "cell_type": "code",
   "execution_count": 10,
   "id": "593ffd37",
   "metadata": {},
   "outputs": [
    {
     "name": "stdout",
     "output_type": "stream",
     "text": [
      "Perfect numbers from  1  to  8128 : \n",
      "1 6 28 496 8128 "
     ]
    }
   ],
   "source": [
    "n = 1\n",
    "m = 8128\n",
    "\n",
    "print (\"Perfect numbers from \", n, \" to \", m, \": \")\n",
    "for x in range (n, m + 1):\n",
    "    sum = 1\n",
    "    for i in range (2, (int (math.sqrt(x))) + 1):\n",
    "        if x % i == 0:\n",
    "            r = int (x / i)\n",
    "            if r * r == x:\n",
    "                sum = sum + r\n",
    "            else:\n",
    "                sum = sum + r + i\n",
    "    if sum == x:\n",
    "            print (x, end = ' ')\n",
    "            "
   ]
  },
  {
   "cell_type": "code",
   "execution_count": null,
   "id": "fbd2800a",
   "metadata": {},
   "outputs": [],
   "source": []
  }
 ],
 "metadata": {
  "kernelspec": {
   "display_name": "Python 3 (ipykernel)",
   "language": "python",
   "name": "python3"
  },
  "language_info": {
   "codemirror_mode": {
    "name": "ipython",
    "version": 3
   },
   "file_extension": ".py",
   "mimetype": "text/x-python",
   "name": "python",
   "nbconvert_exporter": "python",
   "pygments_lexer": "ipython3",
   "version": "3.9.7"
  }
 },
 "nbformat": 4,
 "nbformat_minor": 5
}
