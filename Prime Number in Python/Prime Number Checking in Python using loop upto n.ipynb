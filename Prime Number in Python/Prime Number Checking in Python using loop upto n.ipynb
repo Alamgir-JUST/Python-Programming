{
 "cells": [
  {
   "cell_type": "markdown",
   "id": "e6e16446",
   "metadata": {},
   "source": [
    "# Prime Number Checking in Python using loop upto n"
   ]
  },
  {
   "cell_type": "code",
   "execution_count": 1,
   "id": "2e1014ed",
   "metadata": {},
   "outputs": [
    {
     "name": "stdout",
     "output_type": "stream",
     "text": [
      "Enter a number: 97\n",
      "97  is a Prime Number.\n"
     ]
    }
   ],
   "source": [
    "num = int (input('Enter a number: '))\n",
    "\n",
    "count = 0\n",
    "\n",
    "for i in range(1, num + 1):\n",
    "    if num % i == 0:\n",
    "        count = count + 1\n",
    "\n",
    "if count == 2:\n",
    "    print (num, ' is a Prime Number.')\n",
    "else:\n",
    "    print (num, ' is not a Prime Number.')"
   ]
  },
  {
   "cell_type": "code",
   "execution_count": null,
   "id": "0264ce28",
   "metadata": {},
   "outputs": [],
   "source": []
  }
 ],
 "metadata": {
  "kernelspec": {
   "display_name": "Python 3 (ipykernel)",
   "language": "python",
   "name": "python3"
  },
  "language_info": {
   "codemirror_mode": {
    "name": "ipython",
    "version": 3
   },
   "file_extension": ".py",
   "mimetype": "text/x-python",
   "name": "python",
   "nbconvert_exporter": "python",
   "pygments_lexer": "ipython3",
   "version": "3.9.7"
  }
 },
 "nbformat": 4,
 "nbformat_minor": 5
}
