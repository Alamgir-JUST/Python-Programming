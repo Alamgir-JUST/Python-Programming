{
 "cells": [
  {
   "cell_type": "markdown",
   "id": "7bed872d",
   "metadata": {},
   "source": [
    "# Prime Numbers from n to m"
   ]
  },
  {
   "cell_type": "code",
   "execution_count": 1,
   "id": "fcfe33e1",
   "metadata": {},
   "outputs": [
    {
     "name": "stdout",
     "output_type": "stream",
     "text": [
      "Enter the value of n: 1\n",
      "Enter the value of m: 100\n",
      "Available Prime Numbers between  1  and  100 are: \n",
      "2, 3, 4, 5, 6, 7, 8, 9, 11, 13, 15, 17, 19, 23, 25, 29, 31, 35, 37, 41, 43, 47, 49, 53, 59, 61, 67, 71, 73, 79, 83, 89, 97, "
     ]
    }
   ],
   "source": [
    "import math\n",
    "n = int (input ('Enter the value of n: '))\n",
    "m = int (input ('Enter the value of m: '))\n",
    "\n",
    "if n > m: #Swapping n and m is n is greater than m\n",
    "    temp = n\n",
    "    n = m\n",
    "    m = temp\n",
    "    \n",
    "print('Available Prime Numbers between ', n, ' and ', m, 'are: ')\n",
    "for i in range(n, m + 1):\n",
    "    isPrime = True\n",
    "    if i <= 1:\n",
    "        isPrime = False\n",
    "    else:\n",
    "        for j in range(2, int(math.sqrt(i))):\n",
    "            if i % j == 0:\n",
    "               # print (i)\n",
    "                isPrime = False\n",
    "        if isPrime == True:\n",
    "            print (i, end = ', ')"
   ]
  },
  {
   "cell_type": "code",
   "execution_count": null,
   "id": "f067f2cf",
   "metadata": {},
   "outputs": [],
   "source": []
  }
 ],
 "metadata": {
  "kernelspec": {
   "display_name": "Python 3 (ipykernel)",
   "language": "python",
   "name": "python3"
  },
  "language_info": {
   "codemirror_mode": {
    "name": "ipython",
    "version": 3
   },
   "file_extension": ".py",
   "mimetype": "text/x-python",
   "name": "python",
   "nbconvert_exporter": "python",
   "pygments_lexer": "ipython3",
   "version": "3.9.7"
  }
 },
 "nbformat": 4,
 "nbformat_minor": 5
}
