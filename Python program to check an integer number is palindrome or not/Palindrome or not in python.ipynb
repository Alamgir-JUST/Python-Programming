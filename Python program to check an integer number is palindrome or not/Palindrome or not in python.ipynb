{
 "cells": [
  {
   "cell_type": "markdown",
   "id": "6447e72b",
   "metadata": {},
   "source": [
    "# Python program to check an integer number is palindrome or not"
   ]
  },
  {
   "cell_type": "code",
   "execution_count": 4,
   "id": "c564edb5",
   "metadata": {},
   "outputs": [
    {
     "name": "stdout",
     "output_type": "stream",
     "text": [
      "Enter a number: 123\n",
      "321\n"
     ]
    }
   ],
   "source": [
    "#A number is palindrome if reverse of the number is equal to the number\n",
    "num = int (input ('Enter a number: '))\n",
    "number = num\n",
    "rev = 0\n",
    "while num != 0:\n",
    "    r = int (num % 10)\n",
    "    rev = int(rev * 10 + r)\n",
    "    num = int (num / 10)\n",
    "\n",
    "if rev == number:\n",
    "    print (number, ' is Palindrome.')\n",
    "    "
   ]
  },
  {
   "cell_type": "code",
   "execution_count": null,
   "id": "a4e74e3c",
   "metadata": {},
   "outputs": [],
   "source": []
  }
 ],
 "metadata": {
  "kernelspec": {
   "display_name": "Python 3 (ipykernel)",
   "language": "python",
   "name": "python3"
  },
  "language_info": {
   "codemirror_mode": {
    "name": "ipython",
    "version": 3
   },
   "file_extension": ".py",
   "mimetype": "text/x-python",
   "name": "python",
   "nbconvert_exporter": "python",
   "pygments_lexer": "ipython3",
   "version": "3.9.7"
  }
 },
 "nbformat": 4,
 "nbformat_minor": 5
}
