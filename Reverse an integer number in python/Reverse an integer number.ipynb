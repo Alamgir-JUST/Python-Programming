{
 "cells": [
  {
   "cell_type": "markdown",
   "id": "63131aad",
   "metadata": {},
   "source": [
    "# Python program to reverse an integer number"
   ]
  },
  {
   "cell_type": "code",
   "execution_count": 6,
   "id": "78b4a405",
   "metadata": {},
   "outputs": [
    {
     "name": "stdout",
     "output_type": "stream",
     "text": [
      "Enter a number: 123456\n",
      "Reverse of the given number is:  654321\n"
     ]
    }
   ],
   "source": [
    "num = int (input ('Enter a number: '))\n",
    "\n",
    "reverse = 0\n",
    "while num != 0:\n",
    "    r = num % 10\n",
    "    reverse = (reverse * 10) + r\n",
    "    num = int (num / 10)\n",
    "    \n",
    "print ('Reverse of the given number is: ', reverse)"
   ]
  }
 ],
 "metadata": {
  "kernelspec": {
   "display_name": "Python 3 (ipykernel)",
   "language": "python",
   "name": "python3"
  },
  "language_info": {
   "codemirror_mode": {
    "name": "ipython",
    "version": 3
   },
   "file_extension": ".py",
   "mimetype": "text/x-python",
   "name": "python",
   "nbconvert_exporter": "python",
   "pygments_lexer": "ipython3",
   "version": "3.9.7"
  }
 },
 "nbformat": 4,
 "nbformat_minor": 5
}
