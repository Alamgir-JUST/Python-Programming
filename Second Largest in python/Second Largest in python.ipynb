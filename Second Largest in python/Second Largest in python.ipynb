{
 "cells": [
  {
   "cell_type": "markdown",
   "id": "9c29fffb",
   "metadata": {},
   "source": [
    "# Second largest element of an array in python by creating function"
   ]
  },
  {
   "cell_type": "code",
   "execution_count": 1,
   "id": "2f4fa55b",
   "metadata": {},
   "outputs": [
    {
     "name": "stdout",
     "output_type": "stream",
     "text": [
      "Enter the size of the array: 5\n",
      "Enter  5  elements: \n",
      "10\n",
      "5\n",
      "6\n",
      "5\n",
      "6\n",
      "Second largest value of the array is:  6\n"
     ]
    }
   ],
   "source": [
    "import array as arr\n",
    "\n",
    "def second(A, s):\n",
    "    m = A[0]\n",
    "    for i in range(0, s):\n",
    "        if m > A[i]:\n",
    "            m = A[i]\n",
    "    \n",
    "    m1 = m\n",
    "    m2 = m\n",
    "    \n",
    "    for i in range(0, s):\n",
    "        if A[i] > m1:\n",
    "            m2 = m1\n",
    "            m1 = A[i]\n",
    "        elif A[i] > m2 and m1 != A[i]:\n",
    "            m2 = A[i]\n",
    "            \n",
    "    return m2\n",
    "\n",
    "A = arr.array('i', [])\n",
    "\n",
    "s = int(input('Enter the size of the array: '))\n",
    "print ('Enter ', s, ' elements: ')\n",
    "for i in range(0, s):\n",
    "    val = int(input())\n",
    "    A.append(val)\n",
    "\n",
    "if s == 1:\n",
    "    print ('Only one element is present in the array')\n",
    "else: \n",
    "    res = second(A, s)\n",
    "    print ('Second largest value of the array is: ', res)\n",
    "    "
   ]
  },
  {
   "cell_type": "markdown",
   "id": "50d17055",
   "metadata": {},
   "source": [
    "Finding second largest by applying sort() function"
   ]
  },
  {
   "cell_type": "code",
   "execution_count": 2,
   "id": "26900131",
   "metadata": {},
   "outputs": [
    {
     "name": "stdout",
     "output_type": "stream",
     "text": [
      "Enter the size of the list: 5\n",
      "Enter  5  elements: \n",
      "8\n",
      "4\n",
      "5\n",
      "5\n",
      "6\n",
      "Second largest is:  6\n"
     ]
    }
   ],
   "source": [
    "li = []\n",
    "size = int (input('Enter the size of the list: '))\n",
    "\n",
    "print ('Enter ', size, ' elements: ')\n",
    "for i in range (0, size):\n",
    "    value = int (input ())\n",
    "    li.append(value)\n",
    "    \n",
    "li.sort()\n",
    "li\n",
    "\n",
    "second = li[-2] #Second but not unique\n",
    "\n",
    "for i in range (size, 0): #Making second as the unique value\n",
    "    if second == li[i]:\n",
    "        continue\n",
    "    else:\n",
    "        second = li[i]\n",
    "\n",
    "print ('Second largest is: ', second)\n"
   ]
  },
  {
   "cell_type": "code",
   "execution_count": null,
   "id": "2cc3c321",
   "metadata": {},
   "outputs": [],
   "source": []
  }
 ],
 "metadata": {
  "kernelspec": {
   "display_name": "Python 3 (ipykernel)",
   "language": "python",
   "name": "python3"
  },
  "language_info": {
   "codemirror_mode": {
    "name": "ipython",
    "version": 3
   },
   "file_extension": ".py",
   "mimetype": "text/x-python",
   "name": "python",
   "nbconvert_exporter": "python",
   "pygments_lexer": "ipython3",
   "version": "3.9.7"
  }
 },
 "nbformat": 4,
 "nbformat_minor": 5
}
