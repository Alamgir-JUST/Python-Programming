{
 "cells": [
  {
   "cell_type": "markdown",
   "id": "73939779",
   "metadata": {},
   "source": [
    "# Star patterns in python"
   ]
  },
  {
   "cell_type": "code",
   "execution_count": 1,
   "id": "2bee830c",
   "metadata": {},
   "outputs": [
    {
     "name": "stdout",
     "output_type": "stream",
     "text": [
      "* * * * * * * * * * \n",
      "* * * * * * * * * * \n",
      "* * * * * * * * * * \n",
      "* * * * * * * * * * \n",
      "* * * * * * * * * * \n",
      "* * * * * * * * * * \n",
      "* * * * * * * * * * \n",
      "* * * * * * * * * * \n",
      "* * * * * * * * * * \n",
      "* * * * * * * * * * \n"
     ]
    }
   ],
   "source": [
    "row = 10\n",
    "for i in range(0, row):\n",
    "    for j in range(0, row):\n",
    "        print ('*', end = ' ')\n",
    "    \n",
    "    print ('')"
   ]
  },
  {
   "cell_type": "code",
   "execution_count": 2,
   "id": "a266f99f",
   "metadata": {},
   "outputs": [
    {
     "name": "stdout",
     "output_type": "stream",
     "text": [
      "* \n",
      "* * \n",
      "* * * \n",
      "* * * * \n",
      "* * * * * \n",
      "* * * * * * \n",
      "* * * * * * * \n",
      "* * * * * * * * \n",
      "* * * * * * * * * \n",
      "* * * * * * * * * * \n"
     ]
    }
   ],
   "source": [
    "row = 10\n",
    "for i in range(0, row):\n",
    "    for j in range(0, i + 1):\n",
    "        print ('*', end = ' ')\n",
    "    \n",
    "    print ('')"
   ]
  },
  {
   "cell_type": "code",
   "execution_count": 3,
   "id": "595d8470",
   "metadata": {},
   "outputs": [
    {
     "name": "stdout",
     "output_type": "stream",
     "text": [
      "                  * \n",
      "                * * \n",
      "              * * * \n",
      "            * * * * \n",
      "          * * * * * \n",
      "        * * * * * * \n",
      "      * * * * * * * \n",
      "    * * * * * * * * \n",
      "  * * * * * * * * * \n",
      "* * * * * * * * * * \n"
     ]
    }
   ],
   "source": [
    "row = 10\n",
    "for i in range(0, row):\n",
    "    for j in range(0, row - i - 1):\n",
    "        print (' ', end = ' ')\n",
    "    for k in range(0, i + 1):\n",
    "        print('*', end = ' ')\n",
    "    print('')"
   ]
  },
  {
   "cell_type": "code",
   "execution_count": 4,
   "id": "423e878e",
   "metadata": {},
   "outputs": [
    {
     "name": "stdout",
     "output_type": "stream",
     "text": [
      "* * * * * * * * * * \n",
      "* * * * * * * * * \n",
      "* * * * * * * * \n",
      "* * * * * * * \n",
      "* * * * * * \n",
      "* * * * * \n",
      "* * * * \n",
      "* * * \n",
      "* * \n",
      "* \n"
     ]
    }
   ],
   "source": [
    "row = 10\n",
    "for i in range (0, row):\n",
    "    for j in range(0, row - i):\n",
    "        print ('*', end = ' ')\n",
    "    \n",
    "    print ('')"
   ]
  },
  {
   "cell_type": "code",
   "execution_count": 5,
   "id": "ebab4584",
   "metadata": {},
   "outputs": [
    {
     "name": "stdout",
     "output_type": "stream",
     "text": [
      "* * * * * * * * * * \n",
      "  * * * * * * * * * \n",
      "    * * * * * * * * \n",
      "      * * * * * * * \n",
      "        * * * * * * \n",
      "          * * * * * \n",
      "            * * * * \n",
      "              * * * \n",
      "                * * \n",
      "                  * \n"
     ]
    }
   ],
   "source": [
    "row = 10\n",
    "for i in range(0, row):\n",
    "    for j in range(0, i):\n",
    "        print (' ', end = ' ')\n",
    "    for k in range(0, row - i):\n",
    "        print ('*', end = ' ')\n",
    "        \n",
    "    print ('')"
   ]
  },
  {
   "cell_type": "code",
   "execution_count": null,
   "id": "177ab1eb",
   "metadata": {},
   "outputs": [],
   "source": []
  }
 ],
 "metadata": {
  "kernelspec": {
   "display_name": "Python 3 (ipykernel)",
   "language": "python",
   "name": "python3"
  },
  "language_info": {
   "codemirror_mode": {
    "name": "ipython",
    "version": 3
   },
   "file_extension": ".py",
   "mimetype": "text/x-python",
   "name": "python",
   "nbconvert_exporter": "python",
   "pygments_lexer": "ipython3",
   "version": "3.9.7"
  }
 },
 "nbformat": 4,
 "nbformat_minor": 5
}
