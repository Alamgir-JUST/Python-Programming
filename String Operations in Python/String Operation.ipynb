{
 "cells": [
  {
   "cell_type": "markdown",
   "id": "68be539c",
   "metadata": {},
   "source": [
    "# String Operations in Python"
   ]
  },
  {
   "cell_type": "code",
   "execution_count": 1,
   "id": "004f5391",
   "metadata": {},
   "outputs": [],
   "source": [
    "#capitalize()\n",
    "text = 'computer science and engineering'"
   ]
  },
  {
   "cell_type": "code",
   "execution_count": 2,
   "id": "fabf0ba0",
   "metadata": {},
   "outputs": [
    {
     "data": {
      "text/plain": [
       "'Computer science and engineering'"
      ]
     },
     "execution_count": 2,
     "metadata": {},
     "output_type": "execute_result"
    }
   ],
   "source": [
    "text.capitalize() #Upper case the first letter in this text"
   ]
  },
  {
   "cell_type": "code",
   "execution_count": 3,
   "id": "596590b1",
   "metadata": {},
   "outputs": [],
   "source": [
    "text2 = 'BANGLADESH UNIVERSITY OF ENGINEERING TECHNOLOGY'"
   ]
  },
  {
   "cell_type": "code",
   "execution_count": 4,
   "id": "87679c6a",
   "metadata": {},
   "outputs": [
    {
     "data": {
      "text/plain": [
       "'bangladesh university of engineering technology'"
      ]
     },
     "execution_count": 4,
     "metadata": {},
     "output_type": "execute_result"
    }
   ],
   "source": [
    "#Converts string into lower case\n",
    "text2.casefold()"
   ]
  },
  {
   "cell_type": "code",
   "execution_count": 5,
   "id": "7875e397",
   "metadata": {},
   "outputs": [
    {
     "data": {
      "text/plain": [
       "' BANGLADESH UNIVERSITY OF ENGINEERING TECHNOLOGY  '"
      ]
     },
     "execution_count": 5,
     "metadata": {},
     "output_type": "execute_result"
    }
   ],
   "source": [
    "#center()\n",
    "text2.center(50) #Returns a centered string"
   ]
  },
  {
   "cell_type": "code",
   "execution_count": 6,
   "id": "de42de22",
   "metadata": {},
   "outputs": [
    {
     "data": {
      "text/plain": [
       "2"
      ]
     },
     "execution_count": 6,
     "metadata": {},
     "output_type": "execute_result"
    }
   ],
   "source": [
    "text2.count('T') #Counting specific character in a string"
   ]
  },
  {
   "cell_type": "code",
   "execution_count": 7,
   "id": "355719cd",
   "metadata": {},
   "outputs": [
    {
     "data": {
      "text/plain": [
       "b'BANGLADESH UNIVERSITY OF ENGINEERING TECHNOLOGY'"
      ]
     },
     "execution_count": 7,
     "metadata": {},
     "output_type": "execute_result"
    }
   ],
   "source": [
    "text2.encode()"
   ]
  },
  {
   "cell_type": "code",
   "execution_count": 8,
   "id": "ad9078c3",
   "metadata": {},
   "outputs": [
    {
     "data": {
      "text/plain": [
       "True"
      ]
     },
     "execution_count": 8,
     "metadata": {},
     "output_type": "execute_result"
    }
   ],
   "source": [
    "text2.endswith('Y')"
   ]
  },
  {
   "cell_type": "code",
   "execution_count": 9,
   "id": "ac2ea162",
   "metadata": {},
   "outputs": [
    {
     "data": {
      "text/plain": [
       "37"
      ]
     },
     "execution_count": 9,
     "metadata": {},
     "output_type": "execute_result"
    }
   ],
   "source": [
    "#Search for index\n",
    "text2.index('TECHNOLOGY')"
   ]
  },
  {
   "cell_type": "code",
   "execution_count": 10,
   "id": "934516ec",
   "metadata": {},
   "outputs": [
    {
     "data": {
      "text/plain": [
       "False"
      ]
     },
     "execution_count": 10,
     "metadata": {},
     "output_type": "execute_result"
    }
   ],
   "source": [
    "#Checking alpha numeric\n",
    "text2.isalnum()"
   ]
  },
  {
   "cell_type": "code",
   "execution_count": 11,
   "id": "a2221748",
   "metadata": {},
   "outputs": [
    {
     "data": {
      "text/plain": [
       "False"
      ]
     },
     "execution_count": 11,
     "metadata": {},
     "output_type": "execute_result"
    }
   ],
   "source": [
    "#Checking alphabet\n",
    "text2.isalpha()"
   ]
  },
  {
   "cell_type": "code",
   "execution_count": 12,
   "id": "5eacd7d2",
   "metadata": {},
   "outputs": [
    {
     "data": {
      "text/plain": [
       "'bangladesh university of engineering technology'"
      ]
     },
     "execution_count": 12,
     "metadata": {},
     "output_type": "execute_result"
    }
   ],
   "source": [
    "#Upper to lower\n",
    "text2.lower()"
   ]
  },
  {
   "cell_type": "code",
   "execution_count": 13,
   "id": "e72297a4",
   "metadata": {},
   "outputs": [
    {
     "data": {
      "text/plain": [
       "'BANGLADESHUNIVERSITYOFENGINEERINGTECHNOLOGY'"
      ]
     },
     "execution_count": 13,
     "metadata": {},
     "output_type": "execute_result"
    }
   ],
   "source": [
    "#Replace one character by another character\n",
    "text2.replace(' ', '')"
   ]
  },
  {
   "cell_type": "code",
   "execution_count": 14,
   "id": "864559f4",
   "metadata": {},
   "outputs": [
    {
     "data": {
      "text/plain": [
       "['BANGLADESH', 'UNIVERSITY', 'OF', 'ENGINEERING', 'TECHNOLOGY']"
      ]
     },
     "execution_count": 14,
     "metadata": {},
     "output_type": "execute_result"
    }
   ],
   "source": [
    "#Split all words\n",
    "text2.split()"
   ]
  },
  {
   "cell_type": "code",
   "execution_count": 15,
   "id": "ba19a046",
   "metadata": {},
   "outputs": [
    {
     "data": {
      "text/plain": [
       "'bangladesh university of engineering technology'"
      ]
     },
     "execution_count": 15,
     "metadata": {},
     "output_type": "execute_result"
    }
   ],
   "source": [
    "text2.swapcase()"
   ]
  },
  {
   "cell_type": "code",
   "execution_count": 16,
   "id": "7dcf3d6a",
   "metadata": {},
   "outputs": [
    {
     "data": {
      "text/plain": [
       "'Bangladesh University Of Engineering Technology'"
      ]
     },
     "execution_count": 16,
     "metadata": {},
     "output_type": "execute_result"
    }
   ],
   "source": [
    "text2.title()"
   ]
  },
  {
   "cell_type": "code",
   "execution_count": 17,
   "id": "a927aad9",
   "metadata": {},
   "outputs": [
    {
     "data": {
      "text/plain": [
       "'COMPUTER SCIENCE AND ENGINEERING'"
      ]
     },
     "execution_count": 17,
     "metadata": {},
     "output_type": "execute_result"
    }
   ],
   "source": [
    "text.upper()"
   ]
  },
  {
   "cell_type": "code",
   "execution_count": null,
   "id": "172112ca",
   "metadata": {},
   "outputs": [],
   "source": [
    "Others st"
   ]
  }
 ],
 "metadata": {
  "kernelspec": {
   "display_name": "Python 3 (ipykernel)",
   "language": "python",
   "name": "python3"
  },
  "language_info": {
   "codemirror_mode": {
    "name": "ipython",
    "version": 3
   },
   "file_extension": ".py",
   "mimetype": "text/x-python",
   "name": "python",
   "nbconvert_exporter": "python",
   "pygments_lexer": "ipython3",
   "version": "3.9.7"
  }
 },
 "nbformat": 4,
 "nbformat_minor": 5
}
