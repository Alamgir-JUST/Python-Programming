{
 "cells": [
  {
   "cell_type": "markdown",
   "id": "32469d32",
   "metadata": {},
   "source": [
    "# Strong number from n to m in python"
   ]
  },
  {
   "cell_type": "code",
   "execution_count": 7,
   "id": "49db4691",
   "metadata": {},
   "outputs": [
    {
     "name": "stdout",
     "output_type": "stream",
     "text": [
      "Enter the value of n: 1000\n",
      "Enter the value of m: 1\n",
      "Strong numbers from  1  to 1000  are:\n",
      "1, 2, 145, "
     ]
    }
   ],
   "source": [
    "n = int (input ('Enter the value of n: '))\n",
    "m = int (input ('Enter the value of m: '))\n",
    "\n",
    "if n > m:\n",
    "    temp = n\n",
    "    n = m\n",
    "    m = temp\n",
    "\n",
    "print ('Strong numbers from ', n, ' to', m, ' are:')\n",
    "\n",
    "for x in range(n, m + 1):\n",
    "    num = x\n",
    "    summ = 0\n",
    "    while num != 0:\n",
    "        r = num % 10\n",
    "        fact = 1\n",
    "        for i in range (1, r + 1):\n",
    "            fact = fact * i\n",
    "        summ = summ + fact\n",
    "        num = num//10\n",
    "    if x == summ: \n",
    "        print (x, end = ', ')"
   ]
  },
  {
   "cell_type": "code",
   "execution_count": null,
   "id": "fc77e876",
   "metadata": {},
   "outputs": [],
   "source": []
  }
 ],
 "metadata": {
  "kernelspec": {
   "display_name": "Python 3 (ipykernel)",
   "language": "python",
   "name": "python3"
  },
  "language_info": {
   "codemirror_mode": {
    "name": "ipython",
    "version": 3
   },
   "file_extension": ".py",
   "mimetype": "text/x-python",
   "name": "python",
   "nbconvert_exporter": "python",
   "pygments_lexer": "ipython3",
   "version": "3.9.7"
  }
 },
 "nbformat": 4,
 "nbformat_minor": 5
}
