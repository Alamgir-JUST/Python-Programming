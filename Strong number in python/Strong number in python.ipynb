{
 "cells": [
  {
   "cell_type": "markdown",
   "id": "c198fbf4",
   "metadata": {},
   "source": [
    "# Strong number in python"
   ]
  },
  {
   "cell_type": "code",
   "execution_count": 25,
   "id": "9e9d870a",
   "metadata": {},
   "outputs": [
    {
     "name": "stdout",
     "output_type": "stream",
     "text": [
      "Enter a number: 34\n",
      "34  is not a string number.\n"
     ]
    }
   ],
   "source": [
    "#A number is strong if the summation of the factorial of each digits is equal as the number.\n",
    "num = int (input('Enter a number: '))\n",
    "number = num\n",
    "\n",
    "summ = 0\n",
    "while num > 0:\n",
    "    r = num % 10\n",
    "    fact = 1\n",
    "    for i in range (1, r + 1):\n",
    "        fact = fact * i\n",
    "    summ = summ + fact\n",
    "    num = num//10\n",
    "\n",
    "if summ == number:\n",
    "    print (number, ' is a string number.')\n",
    "else:\n",
    "    print (number, ' is not a string number.')"
   ]
  },
  {
   "cell_type": "code",
   "execution_count": null,
   "id": "10fc0383",
   "metadata": {},
   "outputs": [],
   "source": []
  }
 ],
 "metadata": {
  "kernelspec": {
   "display_name": "Python 3 (ipykernel)",
   "language": "python",
   "name": "python3"
  },
  "language_info": {
   "codemirror_mode": {
    "name": "ipython",
    "version": 3
   },
   "file_extension": ".py",
   "mimetype": "text/x-python",
   "name": "python",
   "nbconvert_exporter": "python",
   "pygments_lexer": "ipython3",
   "version": "3.9.7"
  }
 },
 "nbformat": 4,
 "nbformat_minor": 5
}
