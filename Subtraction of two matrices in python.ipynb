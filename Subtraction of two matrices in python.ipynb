{
 "cells": [
  {
   "cell_type": "markdown",
   "id": "b45727ff",
   "metadata": {},
   "source": [
    "# Substraction of two matrices  in python"
   ]
  },
  {
   "cell_type": "code",
   "execution_count": 1,
   "id": "763850e2",
   "metadata": {},
   "outputs": [
    {
     "name": "stdout",
     "output_type": "stream",
     "text": [
      "Enter the number of rows of first matrix: 3\n",
      "Enter the number of columns of first matrix: 3\n",
      "Enter the number of rows of second matrix: 3\n",
      "Enter the number of columns of second matrix: 3\n",
      "Substaction is possible.\n",
      "Enter the elemenets of the first matrix: \n",
      "20\n",
      "30\n",
      "40\n",
      "30\n",
      "40\n",
      "50\n",
      "40\n",
      "50\n",
      "60\n",
      "Enter the elements of the second matrix: \n",
      "2\n",
      "3\n",
      "4\n",
      "3\n",
      "4\n",
      "5\n",
      "4\n",
      "5\n",
      "6\n",
      "First matrix is: \n",
      "20 30 40 \n",
      "30 40 50 \n",
      "40 50 60 \n",
      "Second matrix is: \n",
      "2 3 4 \n",
      "3 4 5 \n",
      "4 5 6 \n",
      "Matrix after performing substraction from A to B: \n",
      "18 27 36 \n",
      "27 36 45 \n",
      "36 45 54 \n"
     ]
    }
   ],
   "source": [
    "r1 = int (input('Enter the number of rows of first matrix: '))\n",
    "c1 = int (input('Enter the number of columns of first matrix: '))\n",
    "\n",
    "r2 = int (input('Enter the number of rows of second matrix: '))\n",
    "c2 = int (input('Enter the number of columns of second matrix: '))\n",
    "\n",
    "if r1 != r2 and c1 != c2:\n",
    "    print ('Substraction is not possible, because the dimensions are not same.')\n",
    "else:\n",
    "    print ('Substaction is possible.')\n",
    "    \n",
    "    print ('Enter the elemenets of the first matrix: ')\n",
    "    A = []\n",
    "    for i in range(0, r1):\n",
    "        r = []\n",
    "        for j in range(0, c1):\n",
    "            r.append(int(input()))\n",
    "        A.append(r)\n",
    "    \n",
    "    print ('Enter the elements of the second matrix: ')\n",
    "    B = []\n",
    "    for i in range(0, r2):\n",
    "        r = []\n",
    "        for j in range(0, c2):\n",
    "            r.append(int(input()))\n",
    "        B.append(r)\n",
    "        \n",
    "    #Performing Substraction\n",
    "    sub = []\n",
    "    for i in range(0, r1):\n",
    "        row = []\n",
    "        for j in range(0, c1):\n",
    "            row.append(A[i][j] - B[i][j])\n",
    "        sub.append(row)\n",
    "        \n",
    "    print ('First matrix is: ')\n",
    "    for i in range(0, r1):\n",
    "        for j in range(0, c1):\n",
    "            print (A[i][j], end = \" \")\n",
    "        print()\n",
    "        \n",
    "    print ('Second matrix is: ')\n",
    "    for i in range(0, r2):\n",
    "        for j in range(0, c2):\n",
    "            print (B[i][j], end = \" \")\n",
    "        print()\n",
    "        \n",
    "    print ('Matrix after performing substraction from A to B: ')\n",
    "    for i in range(0, r1):\n",
    "        for j in range(0, c1):\n",
    "            print (sub[i][j], end = \" \")\n",
    "        print()\n",
    "        "
   ]
  },
  {
   "cell_type": "code",
   "execution_count": null,
   "id": "e75b0ec7",
   "metadata": {},
   "outputs": [],
   "source": []
  },
  {
   "cell_type": "markdown",
   "id": "561943d4",
   "metadata": {},
   "source": [
    "#### "
   ]
  }
 ],
 "metadata": {
  "kernelspec": {
   "display_name": "Python 3 (ipykernel)",
   "language": "python",
   "name": "python3"
  },
  "language_info": {
   "codemirror_mode": {
    "name": "ipython",
    "version": 3
   },
   "file_extension": ".py",
   "mimetype": "text/x-python",
   "name": "python",
   "nbconvert_exporter": "python",
   "pygments_lexer": "ipython3",
   "version": "3.9.7"
  }
 },
 "nbformat": 4,
 "nbformat_minor": 5
}
