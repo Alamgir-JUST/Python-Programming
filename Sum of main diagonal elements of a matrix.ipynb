{
 "cells": [
  {
   "cell_type": "markdown",
   "id": "f186add3",
   "metadata": {},
   "source": [
    "# Sum of main diagonal elements of a matrix"
   ]
  },
  {
   "cell_type": "code",
   "execution_count": 1,
   "id": "c8ef75da",
   "metadata": {},
   "outputs": [
    {
     "name": "stdout",
     "output_type": "stream",
     "text": [
      "Enter the number of rows of the matrix: 3\n",
      "Enter the number of columns of the matrix: 3\n",
      "Enter the elements of the matrx: \n",
      "3\n",
      "4\n",
      "5\n",
      "4\n",
      "5\n",
      "6\n",
      "5\n",
      "6\n",
      "7\n",
      "The entered matrix is: \n",
      "3 4 5 \n",
      "4 5 6 \n",
      "5 6 7 \n",
      "Sum of main diagonal elements of the matrix is: \n",
      "15\n"
     ]
    }
   ],
   "source": [
    "r = int (input(\"Enter the number of rows of the matrix: \"))\n",
    "c = int(input(\"Enter the number of columns of the matrix: \"))\n",
    "\n",
    "print(\"Enter the elements of the matrx: \")\n",
    "\n",
    "A = []\n",
    "\n",
    "for i in range(0, r):\n",
    "    row = []\n",
    "    for j in range(0, c):\n",
    "        row.append(int(input()))\n",
    "    A.append(row)\n",
    "\n",
    "print ('The entered matrix is: ')\n",
    "for i in range(0, r):\n",
    "    for j in range(0, c):\n",
    "        print (A[i][j], end = \" \")\n",
    "    print()\n",
    "    \n",
    "print ('Sum of main diagonal elements of the matrix is: ')\n",
    "sum = 0\n",
    "\n",
    "for i in range(0, 3):\n",
    "    sum = sum + A[i][i]\n",
    "        \n",
    "print (sum)"
   ]
  },
  {
   "cell_type": "code",
   "execution_count": null,
   "id": "8040289b",
   "metadata": {},
   "outputs": [],
   "source": []
  }
 ],
 "metadata": {
  "kernelspec": {
   "display_name": "Python 3 (ipykernel)",
   "language": "python",
   "name": "python3"
  },
  "language_info": {
   "codemirror_mode": {
    "name": "ipython",
    "version": 3
   },
   "file_extension": ".py",
   "mimetype": "text/x-python",
   "name": "python",
   "nbconvert_exporter": "python",
   "pygments_lexer": "ipython3",
   "version": "3.9.7"
  }
 },
 "nbformat": 4,
 "nbformat_minor": 5
}
