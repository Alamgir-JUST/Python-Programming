{
 "cells": [
  {
   "cell_type": "markdown",
   "id": "82ddb515",
   "metadata": {},
   "source": [
    "# Sum of opposite/minor diagonal elements of a matrix"
   ]
  },
  {
   "cell_type": "code",
   "execution_count": null,
   "id": "dc9f68cf",
   "metadata": {},
   "outputs": [
    {
     "name": "stdout",
     "output_type": "stream",
     "text": [
      "Enter the size of the matrix: 3\n",
      "Enter the elements of the matrx: \n",
      "3\n",
      "2\n",
      "3\n",
      "4\n"
     ]
    }
   ],
   "source": [
    "s = int (input(\"Enter the size of the matrix: \"))\n",
    "\n",
    "print(\"Enter the elements of the matrx: \")\n",
    "\n",
    "A = []\n",
    "\n",
    "for i in range(0, s):\n",
    "    row = []\n",
    "    for j in range(0, s):\n",
    "        row.append(int(input()))\n",
    "    A.append(row)\n",
    "\n",
    "print ('The entered matrix is: ')\n",
    "for i in range(0, s):\n",
    "    for j in range(0, s):\n",
    "        print (A[i][j], end = \" \")\n",
    "    print()\n",
    "    \n",
    "print ('Sum of opposite/minor diagonal elements of the matrix is: ')\n",
    "sum = 0\n",
    "\n",
    "for i in range(0, s):\n",
    "    for j in range(0, s):\n",
    "        if (i + j) == (s - 1):\n",
    "            sum = sum + A[i][j]\n",
    "        \n",
    "print (sum)\n"
   ]
  },
  {
   "cell_type": "markdown",
   "id": "3b0cb0e1",
   "metadata": {},
   "source": []
  }
 ],
 "metadata": {
  "kernelspec": {
   "display_name": "Python 3 (ipykernel)",
   "language": "python",
   "name": "python3"
  },
  "language_info": {
   "codemirror_mode": {
    "name": "ipython",
    "version": 3
   },
   "file_extension": ".py",
   "mimetype": "text/x-python",
   "name": "python",
   "nbconvert_exporter": "python",
   "pygments_lexer": "ipython3",
   "version": "3.9.7"
  }
 },
 "nbformat": 4,
 "nbformat_minor": 5
}
