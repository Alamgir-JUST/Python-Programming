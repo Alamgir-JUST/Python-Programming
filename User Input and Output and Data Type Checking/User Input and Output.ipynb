{
 "cells": [
  {
   "cell_type": "markdown",
   "id": "8c9b6a9d",
   "metadata": {},
   "source": [
    "# User Input and Output in Python"
   ]
  },
  {
   "cell_type": "code",
   "execution_count": 1,
   "id": "ff3edc3f",
   "metadata": {},
   "outputs": [
    {
     "name": "stdout",
     "output_type": "stream",
     "text": [
      "Enter your name: Alamgir Hossain\n"
     ]
    }
   ],
   "source": [
    "name = input ('Enter your name: ')"
   ]
  },
  {
   "cell_type": "code",
   "execution_count": 2,
   "id": "c9614c52",
   "metadata": {},
   "outputs": [
    {
     "name": "stdout",
     "output_type": "stream",
     "text": [
      "Enter your id: 12345\n"
     ]
    }
   ],
   "source": [
    "id = int (input ('Enter your id: '))"
   ]
  },
  {
   "cell_type": "code",
   "execution_count": 3,
   "id": "a6549800",
   "metadata": {},
   "outputs": [
    {
     "name": "stdout",
     "output_type": "stream",
     "text": [
      "Enter your result: 3.50\n"
     ]
    }
   ],
   "source": [
    "result = float (input ('Enter your result: '))"
   ]
  },
  {
   "cell_type": "code",
   "execution_count": 4,
   "id": "3d883dcb",
   "metadata": {},
   "outputs": [
    {
     "name": "stdout",
     "output_type": "stream",
     "text": [
      "Your name is:  Alamgir Hossain\n",
      "Your id is:  12345\n",
      "Your result is:  3.5\n"
     ]
    }
   ],
   "source": [
    "print ('Your name is: ', name)\n",
    "print ('Your id is: ', id)\n",
    "print ('Your result is: ', result)"
   ]
  },
  {
   "cell_type": "markdown",
   "id": "e5a5fc49",
   "metadata": {},
   "source": [
    "# Checking Data Type of name, id, result"
   ]
  },
  {
   "cell_type": "code",
   "execution_count": 5,
   "id": "f6ae0f64",
   "metadata": {},
   "outputs": [
    {
     "name": "stdout",
     "output_type": "stream",
     "text": [
      "Data type of name is:  <class 'str'>\n",
      "Data type of name is:  <class 'int'>\n",
      "Data type of name is:  <class 'float'>\n"
     ]
    }
   ],
   "source": [
    "print ('Data type of name is: ', type(name)) #Default data type is string\n",
    "print ('Data type of name is: ', type(id))\n",
    "print ('Data type of name is: ', type(result))"
   ]
  }
 ],
 "metadata": {
  "kernelspec": {
   "display_name": "Python 3 (ipykernel)",
   "language": "python",
   "name": "python3"
  },
  "language_info": {
   "codemirror_mode": {
    "name": "ipython",
    "version": 3
   },
   "file_extension": ".py",
   "mimetype": "text/x-python",
   "name": "python",
   "nbconvert_exporter": "python",
   "pygments_lexer": "ipython3",
   "version": "3.9.7"
  }
 },
 "nbformat": 4,
 "nbformat_minor": 5
}
