{
 "cells": [
  {
   "cell_type": "markdown",
   "id": "f9dfdbb1",
   "metadata": {},
   "source": [
    "# python program to find the sum of the digits of a number until the sum is reduced to a single digit"
   ]
  },
  {
   "cell_type": "code",
   "execution_count": 9,
   "id": "4662680b",
   "metadata": {},
   "outputs": [
    {
     "name": "stdout",
     "output_type": "stream",
     "text": [
      "Enter the number:12345\n"
     ]
    },
    {
     "data": {
      "text/plain": [
       "6"
      ]
     },
     "execution_count": 9,
     "metadata": {},
     "output_type": "execute_result"
    }
   ],
   "source": [
    "n = int (input('Enter the number:'))\n",
    "\n",
    "sum = 0\n",
    "while (n // 10 != 0):\n",
    "    sum = 0\n",
    "    while n != 0:\n",
    "        r = int (n % 10)\n",
    "        sum = sum + r\n",
    "        n = n // 10\n",
    "    n = sum\n",
    "    \n",
    "sum\n"
   ]
  },
  {
   "cell_type": "code",
   "execution_count": null,
   "id": "e29db8ac",
   "metadata": {},
   "outputs": [],
   "source": []
  }
 ],
 "metadata": {
  "kernelspec": {
   "display_name": "Python 3 (ipykernel)",
   "language": "python",
   "name": "python3"
  },
  "language_info": {
   "codemirror_mode": {
    "name": "ipython",
    "version": 3
   },
   "file_extension": ".py",
   "mimetype": "text/x-python",
   "name": "python",
   "nbconvert_exporter": "python",
   "pygments_lexer": "ipython3",
   "version": "3.9.7"
  }
 },
 "nbformat": 4,
 "nbformat_minor": 5
}
